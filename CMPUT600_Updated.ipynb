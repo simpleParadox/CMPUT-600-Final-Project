{
  "nbformat": 4,
  "nbformat_minor": 0,
  "metadata": {
    "colab": {
      "name": "CMPUT600_Updated",
      "provenance": [],
      "collapsed_sections": []
    },
    "kernelspec": {
      "name": "python3",
      "display_name": "Python 3"
    }
  },
  "cells": [
    {
      "cell_type": "markdown",
      "metadata": {
        "colab_type": "text",
        "id": "lc126HsIisRd"
      },
      "source": [
        "## README\n",
        "\n",
        "\n",
        "**All list of homonyms and processed data is present in the following directory in Google Drive that is required to run the notebook:**\n",
        "https://drive.google.com/drive/folders/10BSrE8nLbX46dxQIHzNv5wo_Fv-LqZn0?usp=sharing\n",
        "\n",
        "\n",
        "**It would be advisable to save a copy of this folder to your own drive and then start from checkpoint 5 in this notebook to replicate the results.**\n",
        "\n",
        "Different checkpoints are provided to help ease the process of replicating results.\n",
        "**One can search for Checkpoint 5 in this notebook and start executing the cells.**\n",
        "\n",
        "\n",
        "Whenever possible, comments are provided to enhance the understandability of the code. Make sure you have all the python packages installed to run the checkpoints."
      ]
    },
    {
      "cell_type": "markdown",
      "metadata": {
        "id": "Eaflbw1x6YCj",
        "colab_type": "text"
      },
      "source": [
        "Set up BERT model -> using an API given in the following link:\n",
        "https://github.com/imgarylai/bert-embedding\n",
        "\n"
      ]
    },
    {
      "cell_type": "code",
      "metadata": {
        "id": "0uxmUvAP6RuJ",
        "colab_type": "code",
        "outputId": "cdc56324-07c3-4dfd-a2db-7e420bf9ffa5",
        "colab": {
          "base_uri": "https://localhost:8080/",
          "height": 454
        }
      },
      "source": [
        "pip install --upgrade numpy==1.14.6"
      ],
      "execution_count": 0,
      "outputs": [
        {
          "output_type": "stream",
          "text": [
            "Collecting numpy==1.14.6\n",
            "\u001b[?25l  Downloading https://files.pythonhosted.org/packages/e5/c4/395ebb218053ba44d64935b3729bc88241ec279915e72100c5979db10945/numpy-1.14.6-cp36-cp36m-manylinux1_x86_64.whl (13.8MB)\n",
            "\u001b[K     |████████████████████████████████| 13.8MB 308kB/s \n",
            "\u001b[31mERROR: xarray 0.15.1 has requirement numpy>=1.15, but you'll have numpy 1.14.6 which is incompatible.\u001b[0m\n",
            "\u001b[31mERROR: umap-learn 0.4.0 has requirement numpy>=1.15, but you'll have numpy 1.14.6 which is incompatible.\u001b[0m\n",
            "\u001b[31mERROR: tensorflow 2.2.0rc2 has requirement numpy<2.0,>=1.16.0, but you'll have numpy 1.14.6 which is incompatible.\u001b[0m\n",
            "\u001b[31mERROR: spacy 2.2.4 has requirement numpy>=1.15.0, but you'll have numpy 1.14.6 which is incompatible.\u001b[0m\n",
            "\u001b[31mERROR: plotnine 0.6.0 has requirement numpy>=1.16.0, but you'll have numpy 1.14.6 which is incompatible.\u001b[0m\n",
            "\u001b[31mERROR: numba 0.48.0 has requirement numpy>=1.15, but you'll have numpy 1.14.6 which is incompatible.\u001b[0m\n",
            "\u001b[31mERROR: imgaug 0.2.9 has requirement numpy>=1.15.0, but you'll have numpy 1.14.6 which is incompatible.\u001b[0m\n",
            "\u001b[31mERROR: fastai 1.0.60 has requirement numpy>=1.15, but you'll have numpy 1.14.6 which is incompatible.\u001b[0m\n",
            "\u001b[31mERROR: datascience 0.10.6 has requirement folium==0.2.1, but you'll have folium 0.8.3 which is incompatible.\u001b[0m\n",
            "\u001b[31mERROR: cvxpy 1.0.29 has requirement numpy>=1.15, but you'll have numpy 1.14.6 which is incompatible.\u001b[0m\n",
            "\u001b[31mERROR: blis 0.4.1 has requirement numpy>=1.15.0, but you'll have numpy 1.14.6 which is incompatible.\u001b[0m\n",
            "\u001b[31mERROR: astropy 4.0.1.post1 has requirement numpy>=1.16, but you'll have numpy 1.14.6 which is incompatible.\u001b[0m\n",
            "\u001b[31mERROR: albumentations 0.1.12 has requirement imgaug<0.2.7,>=0.2.5, but you'll have imgaug 0.2.9 which is incompatible.\u001b[0m\n",
            "\u001b[?25hInstalling collected packages: numpy\n",
            "  Found existing installation: numpy 1.18.2\n",
            "    Uninstalling numpy-1.18.2:\n",
            "      Successfully uninstalled numpy-1.18.2\n",
            "Successfully installed numpy-1.14.6\n"
          ],
          "name": "stdout"
        },
        {
          "output_type": "display_data",
          "data": {
            "application/vnd.colab-display-data+json": {
              "pip_warning": {
                "packages": [
                  "numpy"
                ]
              }
            }
          },
          "metadata": {
            "tags": []
          }
        }
      ]
    },
    {
      "cell_type": "code",
      "metadata": {
        "id": "OJ8O9U7L6w9l",
        "colab_type": "code",
        "outputId": "7f1bc413-b99d-4a76-de77-b2e6abddb9b1",
        "colab": {
          "base_uri": "https://localhost:8080/",
          "height": 470
        }
      },
      "source": [
        "!pip install bert-embedding"
      ],
      "execution_count": 0,
      "outputs": [
        {
          "output_type": "stream",
          "text": [
            "Collecting bert-embedding\n",
            "  Downloading https://files.pythonhosted.org/packages/62/85/e0d56e29a055d8b3ba6da6e52afe404f209453057de95b90c01475c3ff75/bert_embedding-1.0.1-py3-none-any.whl\n",
            "Collecting mxnet==1.4.0\n",
            "\u001b[?25l  Downloading https://files.pythonhosted.org/packages/c0/e9/241aadccc4522f99adee5b6043f730d58adb7c001e0a68865a3728c3b4ae/mxnet-1.4.0-py2.py3-none-manylinux1_x86_64.whl (29.6MB)\n",
            "\u001b[K     |████████████████████████████████| 29.6MB 134kB/s \n",
            "\u001b[?25hRequirement already satisfied: numpy==1.14.6 in /usr/local/lib/python3.6/dist-packages (from bert-embedding) (1.14.6)\n",
            "Requirement already satisfied: typing==3.6.6 in /usr/local/lib/python3.6/dist-packages (from bert-embedding) (3.6.6)\n",
            "Collecting gluonnlp==0.6.0\n",
            "\u001b[?25l  Downloading https://files.pythonhosted.org/packages/e2/07/037585c23bccec19ce333b402997d98b09e43cc8d2d86dc810d57249c5ff/gluonnlp-0.6.0.tar.gz (209kB)\n",
            "\u001b[K     |████████████████████████████████| 215kB 47.3MB/s \n",
            "\u001b[?25hCollecting graphviz<0.9.0,>=0.8.1\n",
            "  Downloading https://files.pythonhosted.org/packages/53/39/4ab213673844e0c004bed8a0781a0721a3f6bb23eb8854ee75c236428892/graphviz-0.8.4-py2.py3-none-any.whl\n",
            "Requirement already satisfied: requests>=2.20.0 in /usr/local/lib/python3.6/dist-packages (from mxnet==1.4.0->bert-embedding) (2.21.0)\n",
            "Requirement already satisfied: chardet<3.1.0,>=3.0.2 in /usr/local/lib/python3.6/dist-packages (from requests>=2.20.0->mxnet==1.4.0->bert-embedding) (3.0.4)\n",
            "Requirement already satisfied: certifi>=2017.4.17 in /usr/local/lib/python3.6/dist-packages (from requests>=2.20.0->mxnet==1.4.0->bert-embedding) (2020.4.5.1)\n",
            "Requirement already satisfied: idna<2.9,>=2.5 in /usr/local/lib/python3.6/dist-packages (from requests>=2.20.0->mxnet==1.4.0->bert-embedding) (2.8)\n",
            "Requirement already satisfied: urllib3<1.25,>=1.21.1 in /usr/local/lib/python3.6/dist-packages (from requests>=2.20.0->mxnet==1.4.0->bert-embedding) (1.24.3)\n",
            "Building wheels for collected packages: gluonnlp\n",
            "  Building wheel for gluonnlp (setup.py) ... \u001b[?25l\u001b[?25hdone\n",
            "  Created wheel for gluonnlp: filename=gluonnlp-0.6.0-cp36-none-any.whl size=259916 sha256=dbf132a0d1edad3b2458b182cd9207fa6e8082718a982e89444bcb27717f3f03\n",
            "  Stored in directory: /root/.cache/pip/wheels/ff/48/ac/a77c79aa416ba6dd7bf487f2280b0471034f66141617965914\n",
            "Successfully built gluonnlp\n",
            "Installing collected packages: graphviz, mxnet, gluonnlp, bert-embedding\n",
            "  Found existing installation: graphviz 0.10.1\n",
            "    Uninstalling graphviz-0.10.1:\n",
            "      Successfully uninstalled graphviz-0.10.1\n",
            "Successfully installed bert-embedding-1.0.1 gluonnlp-0.6.0 graphviz-0.8.4 mxnet-1.4.0\n"
          ],
          "name": "stdout"
        }
      ]
    },
    {
      "cell_type": "code",
      "metadata": {
        "id": "nr-PclC77AKk",
        "colab_type": "code",
        "colab": {}
      },
      "source": [
        "from bert_embedding.bert import BertEmbedding"
      ],
      "execution_count": 0,
      "outputs": []
    },
    {
      "cell_type": "code",
      "metadata": {
        "id": "4FErHDce7HuV",
        "colab_type": "code",
        "outputId": "d0de732e-6e64-4d38-8001-0a184bd84fc3",
        "colab": {
          "base_uri": "https://localhost:8080/",
          "height": 87
        }
      },
      "source": [
        "bert_model = BertEmbedding()"
      ],
      "execution_count": 0,
      "outputs": [
        {
          "output_type": "stream",
          "text": [
            "Vocab file is not found. Downloading.\n",
            "Downloading /root/.mxnet/models/book_corpus_wiki_en_uncased-a6607397.zip from https://apache-mxnet.s3-accelerate.dualstack.amazonaws.com/gluon/dataset/vocab/book_corpus_wiki_en_uncased-a6607397.zip...\n",
            "Downloading /root/.mxnet/models/bert_12_768_12_book_corpus_wiki_en_uncased-75cc780f.zip from https://apache-mxnet.s3-accelerate.dualstack.amazonaws.com/gluon/models/bert_12_768_12_book_corpus_wiki_en_uncased-75cc780f.zip...\n"
          ],
          "name": "stdout"
        }
      ]
    },
    {
      "cell_type": "markdown",
      "metadata": {
        "colab_type": "text",
        "id": "yzbAndU4XV5D"
      },
      "source": [
        "Importing the homonym list and SemCor data from Drive. Can then extract sentences that contain homonyms and get embddings for these sentences from BERT.\n",
        "\n"
      ]
    },
    {
      "cell_type": "markdown",
      "metadata": {
        "colab_type": "text",
        "id": "EVzqtlFxWeEj"
      },
      "source": [
        "Use the cleaned up version of SemCor provided by Bradley."
      ]
    },
    {
      "cell_type": "code",
      "metadata": {
        "id": "itQxtDT8rBXA",
        "colab_type": "code",
        "outputId": "e5b669b6-9333-48ff-9b93-9fbe1518c74f",
        "colab": {
          "base_uri": "https://localhost:8080/",
          "height": 121
        }
      },
      "source": [
        "from google.colab import drive\n",
        "drive.mount('/content/drive')"
      ],
      "execution_count": 0,
      "outputs": [
        {
          "output_type": "stream",
          "text": [
            "Go to this URL in a browser: https://accounts.google.com/o/oauth2/auth?client_id=947318989803-6bn6qk8qdgf4n4g3pfee6491hc0brc4i.apps.googleusercontent.com&redirect_uri=urn%3aietf%3awg%3aoauth%3a2.0%3aoob&response_type=code&scope=email%20https%3a%2f%2fwww.googleapis.com%2fauth%2fdocs.test%20https%3a%2f%2fwww.googleapis.com%2fauth%2fdrive%20https%3a%2f%2fwww.googleapis.com%2fauth%2fdrive.photos.readonly%20https%3a%2f%2fwww.googleapis.com%2fauth%2fpeopleapi.readonly\n",
            "\n",
            "Enter your authorization code:\n",
            "··········\n",
            "Mounted at /content/drive\n"
          ],
          "name": "stdout"
        }
      ]
    },
    {
      "cell_type": "code",
      "metadata": {
        "id": "diwZDmTYsdHT",
        "colab_type": "code",
        "colab": {}
      },
      "source": [
        "import pandas as pd"
      ],
      "execution_count": 0,
      "outputs": []
    },
    {
      "cell_type": "code",
      "metadata": {
        "id": "rmFusI-eq9k0",
        "colab_type": "code",
        "colab": {}
      },
      "source": [
        "homonym_list = pd.read_csv('/content/drive/My Drive/CMPUT600_data/hk20-homonym-resource_homonyms_v01.tsv', delimiter='\\t', header=None, names=['word', 'number', 'pos', 'meaning'])"
      ],
      "execution_count": 0,
      "outputs": []
    },
    {
      "cell_type": "code",
      "metadata": {
        "id": "Dn-BdcP9ukxn",
        "colab_type": "code",
        "colab": {}
      },
      "source": [
        "semcor = pd.read_csv('/content/drive/My Drive/CMPUT600_data/semcor.data.xml.ins', delimiter='\\t', header=None, names=['sent_id', 'sent', 'word_num', 'un_id', 'lemma', 'pos_tag'])"
      ],
      "execution_count": 0,
      "outputs": []
    },
    {
      "cell_type": "markdown",
      "metadata": {
        "id": "_IFevQFTsPHA",
        "colab_type": "text"
      },
      "source": [
        "Now I read in sense-key data and attach to SemCor"
      ]
    },
    {
      "cell_type": "code",
      "metadata": {
        "id": "dOBg7P4usawz",
        "colab_type": "code",
        "colab": {}
      },
      "source": [
        "semcor_key = pd.read_csv('/content/drive/My Drive/CMPUT600_data/semcor.gold.key.txt', sep=' ', names=['un_id', 'sense_key'], header=None)"
      ],
      "execution_count": 0,
      "outputs": []
    },
    {
      "cell_type": "code",
      "metadata": {
        "colab_type": "code",
        "outputId": "3197024e-524f-434d-df7e-b30ccbde1c6b",
        "id": "UaVr5lehXVeF",
        "colab": {
          "base_uri": "https://localhost:8080/",
          "height": 195
        }
      },
      "source": [
        "semcor_key.head()"
      ],
      "execution_count": 0,
      "outputs": [
        {
          "output_type": "execute_result",
          "data": {
            "text/html": [
              "<div>\n",
              "<style scoped>\n",
              "    .dataframe tbody tr th:only-of-type {\n",
              "        vertical-align: middle;\n",
              "    }\n",
              "\n",
              "    .dataframe tbody tr th {\n",
              "        vertical-align: top;\n",
              "    }\n",
              "\n",
              "    .dataframe thead th {\n",
              "        text-align: right;\n",
              "    }\n",
              "</style>\n",
              "<table border=\"1\" class=\"dataframe\">\n",
              "  <thead>\n",
              "    <tr style=\"text-align: right;\">\n",
              "      <th></th>\n",
              "      <th>un_id</th>\n",
              "      <th>sense_key</th>\n",
              "    </tr>\n",
              "  </thead>\n",
              "  <tbody>\n",
              "    <tr>\n",
              "      <th>0</th>\n",
              "      <td>d000.s000.t000</td>\n",
              "      <td>long%3:00:02::</td>\n",
              "    </tr>\n",
              "    <tr>\n",
              "      <th>1</th>\n",
              "      <td>d000.s000.t001</td>\n",
              "      <td>be%2:42:03::</td>\n",
              "    </tr>\n",
              "    <tr>\n",
              "      <th>2</th>\n",
              "      <td>d000.s000.t002</td>\n",
              "      <td>review%2:31:00::</td>\n",
              "    </tr>\n",
              "    <tr>\n",
              "      <th>3</th>\n",
              "      <td>d000.s000.t003</td>\n",
              "      <td>objective%1:09:00::</td>\n",
              "    </tr>\n",
              "    <tr>\n",
              "      <th>4</th>\n",
              "      <td>d000.s000.t004</td>\n",
              "      <td>benefit%1:21:00::</td>\n",
              "    </tr>\n",
              "  </tbody>\n",
              "</table>\n",
              "</div>"
            ],
            "text/plain": [
              "            un_id            sense_key\n",
              "0  d000.s000.t000       long%3:00:02::\n",
              "1  d000.s000.t001         be%2:42:03::\n",
              "2  d000.s000.t002     review%2:31:00::\n",
              "3  d000.s000.t003  objective%1:09:00::\n",
              "4  d000.s000.t004    benefit%1:21:00::"
            ]
          },
          "metadata": {
            "tags": []
          },
          "execution_count": 10
        }
      ]
    },
    {
      "cell_type": "code",
      "metadata": {
        "id": "Ltf-wNKzbqZ3",
        "colab_type": "code",
        "colab": {}
      },
      "source": [
        "semcor_with_sensekey = pd.merge(semcor, semcor_key, how='inner', on='un_id')"
      ],
      "execution_count": 0,
      "outputs": []
    },
    {
      "cell_type": "code",
      "metadata": {
        "id": "yzeePS4jIQBI",
        "colab_type": "code",
        "colab": {}
      },
      "source": [
        "semcor_vals = semcor_with_sensekey.copy()"
      ],
      "execution_count": 0,
      "outputs": []
    },
    {
      "cell_type": "code",
      "metadata": {
        "id": "BJxb-BoDqV5i",
        "colab_type": "code",
        "colab": {}
      },
      "source": [
        "semcor_with_sensekey['un_id'] = 'semcor.' + semcor_with_sensekey['un_id'].astype(str)"
      ],
      "execution_count": 0,
      "outputs": []
    },
    {
      "cell_type": "code",
      "metadata": {
        "id": "l1zWtAbguEOa",
        "colab_type": "code",
        "outputId": "5379103c-d6f1-4355-9329-b309e44ebd2d",
        "colab": {
          "base_uri": "https://localhost:8080/",
          "height": 195
        }
      },
      "source": [
        "semcor_with_sensekey.head()"
      ],
      "execution_count": 0,
      "outputs": [
        {
          "output_type": "execute_result",
          "data": {
            "text/html": [
              "<div>\n",
              "<style scoped>\n",
              "    .dataframe tbody tr th:only-of-type {\n",
              "        vertical-align: middle;\n",
              "    }\n",
              "\n",
              "    .dataframe tbody tr th {\n",
              "        vertical-align: top;\n",
              "    }\n",
              "\n",
              "    .dataframe thead th {\n",
              "        text-align: right;\n",
              "    }\n",
              "</style>\n",
              "<table border=\"1\" class=\"dataframe\">\n",
              "  <thead>\n",
              "    <tr style=\"text-align: right;\">\n",
              "      <th></th>\n",
              "      <th>sent_id</th>\n",
              "      <th>sent</th>\n",
              "      <th>word_num</th>\n",
              "      <th>un_id</th>\n",
              "      <th>lemma</th>\n",
              "      <th>pos_tag</th>\n",
              "      <th>sense_key</th>\n",
              "    </tr>\n",
              "  </thead>\n",
              "  <tbody>\n",
              "    <tr>\n",
              "      <th>0</th>\n",
              "      <td>d000.s000</td>\n",
              "      <td>how long has it been since you reviewed the ob...</td>\n",
              "      <td>1</td>\n",
              "      <td>semcor.d000.s000.t000</td>\n",
              "      <td>long</td>\n",
              "      <td>ADJ</td>\n",
              "      <td>long%3:00:02::</td>\n",
              "    </tr>\n",
              "    <tr>\n",
              "      <th>1</th>\n",
              "      <td>d000.s000</td>\n",
              "      <td>how long has it been since you reviewed the ob...</td>\n",
              "      <td>4</td>\n",
              "      <td>semcor.d000.s000.t001</td>\n",
              "      <td>be</td>\n",
              "      <td>VERB</td>\n",
              "      <td>be%2:42:03::</td>\n",
              "    </tr>\n",
              "    <tr>\n",
              "      <th>2</th>\n",
              "      <td>d000.s000</td>\n",
              "      <td>how long has it been since you reviewed the ob...</td>\n",
              "      <td>7</td>\n",
              "      <td>semcor.d000.s000.t002</td>\n",
              "      <td>review</td>\n",
              "      <td>VERB</td>\n",
              "      <td>review%2:31:00::</td>\n",
              "    </tr>\n",
              "    <tr>\n",
              "      <th>3</th>\n",
              "      <td>d000.s000</td>\n",
              "      <td>how long has it been since you reviewed the ob...</td>\n",
              "      <td>9</td>\n",
              "      <td>semcor.d000.s000.t003</td>\n",
              "      <td>objective</td>\n",
              "      <td>NOUN</td>\n",
              "      <td>objective%1:09:00::</td>\n",
              "    </tr>\n",
              "    <tr>\n",
              "      <th>4</th>\n",
              "      <td>d000.s000</td>\n",
              "      <td>how long has it been since you reviewed the ob...</td>\n",
              "      <td>12</td>\n",
              "      <td>semcor.d000.s000.t004</td>\n",
              "      <td>benefit</td>\n",
              "      <td>NOUN</td>\n",
              "      <td>benefit%1:21:00::</td>\n",
              "    </tr>\n",
              "  </tbody>\n",
              "</table>\n",
              "</div>"
            ],
            "text/plain": [
              "     sent_id  ...            sense_key\n",
              "0  d000.s000  ...       long%3:00:02::\n",
              "1  d000.s000  ...         be%2:42:03::\n",
              "2  d000.s000  ...     review%2:31:00::\n",
              "3  d000.s000  ...  objective%1:09:00::\n",
              "4  d000.s000  ...    benefit%1:21:00::\n",
              "\n",
              "[5 rows x 7 columns]"
            ]
          },
          "metadata": {
            "tags": []
          },
          "execution_count": 15
        }
      ]
    },
    {
      "cell_type": "code",
      "metadata": {
        "id": "6u68UREs89SE",
        "colab_type": "code",
        "colab": {}
      },
      "source": [
        "semcor_with_sensekey.to_csv('/content/drive/My Drive/CMPUT600_data/semcor_with_sensekey.csv', index=False)"
      ],
      "execution_count": 0,
      "outputs": []
    },
    {
      "cell_type": "markdown",
      "metadata": {
        "id": "P4Mz8NDs8kyr",
        "colab_type": "text"
      },
      "source": [
        "Inner join on 'un_id' from SemCor and gold.key saved as 'semcor_with_sensekeys.csv' in Drive."
      ]
    },
    {
      "cell_type": "markdown",
      "metadata": {
        "id": "KpWag8o1Bt-Q",
        "colab_type": "text"
      },
      "source": [
        "From here I will need to remove homonymous words from the list that do not appear in the 'lemma' of Semcor and do the other way around too."
      ]
    },
    {
      "cell_type": "code",
      "metadata": {
        "id": "25bKJbZFqx-D",
        "colab_type": "code",
        "colab": {}
      },
      "source": [
        "semcor_with_sensekey = pd.read_csv('/content/drive/My Drive/CMPUT600_data/semcor_with_sensekey.csv')"
      ],
      "execution_count": 0,
      "outputs": []
    },
    {
      "cell_type": "code",
      "metadata": {
        "id": "mIKFjfcmBr6k",
        "colab_type": "code",
        "colab": {}
      },
      "source": [
        "matching_lemmas = [i for i in range(len(semcor_with_sensekey)) if semcor_with_sensekey['lemma'].iloc[i] in list(homonym_list['word'])]"
      ],
      "execution_count": 0,
      "outputs": []
    },
    {
      "cell_type": "code",
      "metadata": {
        "id": "BD0c3P10JlPV",
        "colab_type": "code",
        "colab": {}
      },
      "source": [
        "unique_homs = sorted(list(set(homonym_list['word'])))"
      ],
      "execution_count": 0,
      "outputs": []
    },
    {
      "cell_type": "code",
      "metadata": {
        "id": "GKPB5nonX2sX",
        "colab_type": "code",
        "colab": {}
      },
      "source": [
        "# This operation takes a long time.\n",
        "keepers = []\n",
        "for hom in unique_homs:\n",
        "  hom_space = str(' ' + hom + ' ')\n",
        "  for i in range(0, len(semcor_with_sensekey)):\n",
        "    if ((hom_space in semcor_with_sensekey['sent'][i]) and (hom == semcor_with_sensekey['lemma'][i])):\n",
        "      keepers.append(i)\n",
        "    else: \n",
        "      pass"
      ],
      "execution_count": 0,
      "outputs": []
    },
    {
      "cell_type": "code",
      "metadata": {
        "id": "uAFIoef11Qyq",
        "colab_type": "code",
        "colab": {}
      },
      "source": [
        "keepers = sorted(keepers)"
      ],
      "execution_count": 0,
      "outputs": []
    },
    {
      "cell_type": "code",
      "metadata": {
        "id": "Dmjup-2vSzv4",
        "colab_type": "code",
        "outputId": "080f5d70-47e2-4f07-8bc1-8c23a5183fd5",
        "colab": {
          "base_uri": "https://localhost:8080/",
          "height": 34
        }
      },
      "source": [
        "keepers[0:10]"
      ],
      "execution_count": 0,
      "outputs": [
        {
          "output_type": "execute_result",
          "data": {
            "text/plain": [
              "[0, 34, 83, 127, 129, 180, 258, 296, 312, 319]"
            ]
          },
          "metadata": {
            "tags": []
          },
          "execution_count": 29
        }
      ]
    },
    {
      "cell_type": "code",
      "metadata": {
        "id": "GQ0C9V03sECB",
        "colab_type": "code",
        "outputId": "3e081b95-76bc-4660-9e42-00f05fc436b4",
        "colab": {
          "base_uri": "https://localhost:8080/",
          "height": 34
        }
      },
      "source": [
        "len(semcor_with_sensekey)"
      ],
      "execution_count": 0,
      "outputs": [
        {
          "output_type": "execute_result",
          "data": {
            "text/plain": [
              "226034"
            ]
          },
          "metadata": {
            "tags": []
          },
          "execution_count": 30
        }
      ]
    },
    {
      "cell_type": "code",
      "metadata": {
        "id": "gtK0-egBCLem",
        "colab_type": "code",
        "colab": {}
      },
      "source": [
        "# Subset semcor_with_sensekey by only lemmas that appear in homonym list and appear in the sentence associated with the lemma\n",
        "semcor_true_lemmas = semcor_with_sensekey.iloc[keepers]"
      ],
      "execution_count": 0,
      "outputs": []
    },
    {
      "cell_type": "code",
      "metadata": {
        "id": "nc4LhtucDaXj",
        "colab_type": "code",
        "outputId": "ca922bff-48a9-42f9-ea92-dfa7af1f8585",
        "colab": {
          "base_uri": "https://localhost:8080/",
          "height": 34
        }
      },
      "source": [
        "len(semcor_true_lemmas)"
      ],
      "execution_count": 0,
      "outputs": [
        {
          "output_type": "execute_result",
          "data": {
            "text/plain": [
              "8090"
            ]
          },
          "metadata": {
            "tags": []
          },
          "execution_count": 32
        }
      ]
    },
    {
      "cell_type": "code",
      "metadata": {
        "id": "R6DZrC2bDeGZ",
        "colab_type": "code",
        "colab": {}
      },
      "source": [
        "#Do the other way around.\n",
        "matching_homs = [i for i in range(len(homonym_list)) if homonym_list['word'].iloc[i] in list(semcor_true_lemmas['lemma'])]"
      ],
      "execution_count": 0,
      "outputs": []
    },
    {
      "cell_type": "code",
      "metadata": {
        "id": "GoBX6lsnsdTS",
        "colab_type": "code",
        "outputId": "02523966-926a-4797-d647-adfb6cdb63b8",
        "colab": {
          "base_uri": "https://localhost:8080/",
          "height": 34
        }
      },
      "source": [
        "len(homonym_list)"
      ],
      "execution_count": 0,
      "outputs": [
        {
          "output_type": "execute_result",
          "data": {
            "text/plain": [
              "1957"
            ]
          },
          "metadata": {
            "tags": []
          },
          "execution_count": 34
        }
      ]
    },
    {
      "cell_type": "code",
      "metadata": {
        "id": "Gd-Oe2s4D66Y",
        "colab_type": "code",
        "colab": {}
      },
      "source": [
        "match_homonyms = homonym_list.iloc[matching_homs]"
      ],
      "execution_count": 0,
      "outputs": []
    },
    {
      "cell_type": "code",
      "metadata": {
        "id": "TkKeriK1EEuA",
        "colab_type": "code",
        "outputId": "0dcb8213-4425-4e91-dc2e-b884cdb219c6",
        "colab": {
          "base_uri": "https://localhost:8080/",
          "height": 34
        }
      },
      "source": [
        "len(match_homonyms)"
      ],
      "execution_count": 0,
      "outputs": [
        {
          "output_type": "execute_result",
          "data": {
            "text/plain": [
              "1222"
            ]
          },
          "metadata": {
            "tags": []
          },
          "execution_count": 36
        }
      ]
    },
    {
      "cell_type": "code",
      "metadata": {
        "id": "ZhJeB4aWEM01",
        "colab_type": "code",
        "outputId": "cfea8560-7e72-4691-bc64-5c1d80fb4d65",
        "colab": {
          "base_uri": "https://localhost:8080/",
          "height": 34
        }
      },
      "source": [
        "# Sanity check that sets of match_homonyms['word'] and semcor_true_lemmas['lemma'] are the same\n",
        "set(semcor_true_lemmas['lemma']).difference(set(match_homonyms['word']))"
      ],
      "execution_count": 0,
      "outputs": [
        {
          "output_type": "execute_result",
          "data": {
            "text/plain": [
              "set()"
            ]
          },
          "metadata": {
            "tags": []
          },
          "execution_count": 37
        }
      ]
    },
    {
      "cell_type": "code",
      "metadata": {
        "id": "6xcMEtvTEYjH",
        "colab_type": "code",
        "outputId": "2dfebf0a-e404-42fc-97f6-ecbdf4102665",
        "colab": {
          "base_uri": "https://localhost:8080/",
          "height": 34
        }
      },
      "source": [
        "set(match_homonyms['word']).difference(set(semcor_true_lemmas['lemma']))"
      ],
      "execution_count": 0,
      "outputs": [
        {
          "output_type": "execute_result",
          "data": {
            "text/plain": [
              "set()"
            ]
          },
          "metadata": {
            "tags": []
          },
          "execution_count": 38
        }
      ]
    },
    {
      "cell_type": "code",
      "metadata": {
        "id": "1nZ1JLNbTggb",
        "colab_type": "code",
        "colab": {}
      },
      "source": [
        "semcor_true_lemmas = semcor_true_lemmas.reset_index(drop=True)\n",
        "match_homonyms = match_homonyms.reset_index(drop=True)"
      ],
      "execution_count": 0,
      "outputs": []
    },
    {
      "cell_type": "code",
      "metadata": {
        "id": "x3fR8j_2EiN2",
        "colab_type": "code",
        "colab": {}
      },
      "source": [
        "# Write my reduced homonyms and semcor to csv as a checkpoint\n",
        "match_homonyms.to_csv('/content/drive/My Drive/CMPUT600_data/match_homonyms.csv', index=False)\n",
        "semcor_true_lemmas.to_csv('/content/drive/My Drive/CMPUT600_data/semcor_true_lemmas.csv', index=False)"
      ],
      "execution_count": 0,
      "outputs": []
    },
    {
      "cell_type": "markdown",
      "metadata": {
        "id": "PUx2FXn8TySs",
        "colab_type": "text"
      },
      "source": [
        "Note that semcor_true_lemmas and match_homonyms are dataframes that contain sentences from semcor that have a homonym in them and have a lemma that matches a homonym from the list, and a list of homonyms that are present in both sentences and the lemma column in semcor, respectively"
      ]
    },
    {
      "cell_type": "markdown",
      "metadata": {
        "id": "wrN10XfAH4mZ",
        "colab_type": "text"
      },
      "source": [
        "Create a \"sense number\" for semcor data points to match with the homonym mapping provided by Professor Kondrak.\n",
        "\n",
        "Use the sense number for SemCor sentences for merging with the homonym mapping."
      ]
    },
    {
      "cell_type": "code",
      "metadata": {
        "id": "Id7DNLMBFDhJ",
        "colab_type": "code",
        "colab": {}
      },
      "source": [
        "import re"
      ],
      "execution_count": 0,
      "outputs": []
    },
    {
      "cell_type": "code",
      "metadata": {
        "id": "xpfU60TvHe3I",
        "colab_type": "code",
        "colab": {}
      },
      "source": [
        "semcor_true_lemmas['sense_number'] = \"\""
      ],
      "execution_count": 0,
      "outputs": []
    },
    {
      "cell_type": "code",
      "metadata": {
        "id": "T1Ns0NA6Hz1A",
        "colab_type": "code",
        "outputId": "aeaea4a6-8075-41bb-fbcb-a426b90c5c17",
        "colab": {
          "base_uri": "https://localhost:8080/",
          "height": 101
        }
      },
      "source": [
        "for i in range(0,len(semcor_true_lemmas)):\n",
        "  lemma = semcor_true_lemmas['lemma'].iloc[i]\n",
        "  pos = semcor_true_lemmas['pos_tag'].iloc[i][0].lower()\n",
        "  number = re.search(r'\\d+', semcor_true_lemmas['sense_key'].iloc[i]).group()\n",
        "  semcor_true_lemmas['sense_number'].iloc[i] = str(lemma + '#' + pos + '#' + number)"
      ],
      "execution_count": 0,
      "outputs": [
        {
          "output_type": "stream",
          "text": [
            "/usr/local/lib/python3.6/dist-packages/pandas/core/indexing.py:671: SettingWithCopyWarning: \n",
            "A value is trying to be set on a copy of a slice from a DataFrame\n",
            "\n",
            "See the caveats in the documentation: https://pandas.pydata.org/pandas-docs/stable/user_guide/indexing.html#returning-a-view-versus-a-copy\n",
            "  self._setitem_with_indexer(indexer, value)\n"
          ],
          "name": "stderr"
        }
      ]
    },
    {
      "cell_type": "code",
      "metadata": {
        "id": "nWesDqoaIBd3",
        "colab_type": "code",
        "outputId": "ca99b883-561e-4b9c-81ba-a3018b7df034",
        "colab": {
          "base_uri": "https://localhost:8080/",
          "height": 195
        }
      },
      "source": [
        "semcor_true_lemmas.head()"
      ],
      "execution_count": 0,
      "outputs": [
        {
          "output_type": "execute_result",
          "data": {
            "text/html": [
              "<div>\n",
              "<style scoped>\n",
              "    .dataframe tbody tr th:only-of-type {\n",
              "        vertical-align: middle;\n",
              "    }\n",
              "\n",
              "    .dataframe tbody tr th {\n",
              "        vertical-align: top;\n",
              "    }\n",
              "\n",
              "    .dataframe thead th {\n",
              "        text-align: right;\n",
              "    }\n",
              "</style>\n",
              "<table border=\"1\" class=\"dataframe\">\n",
              "  <thead>\n",
              "    <tr style=\"text-align: right;\">\n",
              "      <th></th>\n",
              "      <th>sent_id</th>\n",
              "      <th>sent</th>\n",
              "      <th>word_num</th>\n",
              "      <th>un_id</th>\n",
              "      <th>lemma</th>\n",
              "      <th>pos_tag</th>\n",
              "      <th>sense_key</th>\n",
              "      <th>sense_number</th>\n",
              "    </tr>\n",
              "  </thead>\n",
              "  <tbody>\n",
              "    <tr>\n",
              "      <th>0</th>\n",
              "      <td>d000.s000</td>\n",
              "      <td>how long has it been since you reviewed the ob...</td>\n",
              "      <td>1</td>\n",
              "      <td>semcor.d000.s000.t000</td>\n",
              "      <td>long</td>\n",
              "      <td>ADJ</td>\n",
              "      <td>long%3:00:02::</td>\n",
              "      <td>long#a#3</td>\n",
              "    </tr>\n",
              "    <tr>\n",
              "      <th>1</th>\n",
              "      <td>d000.s004</td>\n",
              "      <td>have you set specific objectives for your empl...</td>\n",
              "      <td>2</td>\n",
              "      <td>semcor.d000.s004.t000</td>\n",
              "      <td>set</td>\n",
              "      <td>VERB</td>\n",
              "      <td>set%2:32:00::</td>\n",
              "      <td>set#v#2</td>\n",
              "    </tr>\n",
              "    <tr>\n",
              "      <th>2</th>\n",
              "      <td>d000.s011</td>\n",
              "      <td>when improvements are recommended in working c...</td>\n",
              "      <td>18</td>\n",
              "      <td>semcor.d000.s011.t009</td>\n",
              "      <td>set</td>\n",
              "      <td>VERB</td>\n",
              "      <td>set%2:32:00::</td>\n",
              "      <td>set#v#2</td>\n",
              "    </tr>\n",
              "    <tr>\n",
              "      <th>3</th>\n",
              "      <td>d000.s016</td>\n",
              "      <td>have you publicized the cents per hour value o...</td>\n",
              "      <td>12</td>\n",
              "      <td>semcor.d000.s016.t005</td>\n",
              "      <td>share</td>\n",
              "      <td>NOUN</td>\n",
              "      <td>share%1:21:00::</td>\n",
              "      <td>share#n#1</td>\n",
              "    </tr>\n",
              "    <tr>\n",
              "      <th>4</th>\n",
              "      <td>d000.s017</td>\n",
              "      <td>when did you last compare your present premium...</td>\n",
              "      <td>3</td>\n",
              "      <td>semcor.d000.s017.t000</td>\n",
              "      <td>last</td>\n",
              "      <td>ADV</td>\n",
              "      <td>last%4:02:00::</td>\n",
              "      <td>last#a#4</td>\n",
              "    </tr>\n",
              "  </tbody>\n",
              "</table>\n",
              "</div>"
            ],
            "text/plain": [
              "     sent_id  ... sense_number\n",
              "0  d000.s000  ...     long#a#3\n",
              "1  d000.s004  ...      set#v#2\n",
              "2  d000.s011  ...      set#v#2\n",
              "3  d000.s016  ...    share#n#1\n",
              "4  d000.s017  ...     last#a#4\n",
              "\n",
              "[5 rows x 8 columns]"
            ]
          },
          "metadata": {
            "tags": []
          },
          "execution_count": 44
        }
      ]
    },
    {
      "cell_type": "code",
      "metadata": {
        "id": "bu-N0v5HIVIC",
        "colab_type": "code",
        "colab": {}
      },
      "source": [
        "#Overwriting match_semcor csv with updated dataframe\n",
        "semcor_true_lemmas.to_csv('/content/drive/My Drive/CMPUT600_data/semcor_true_lemmas.csv', index=False)"
      ],
      "execution_count": 0,
      "outputs": []
    },
    {
      "cell_type": "code",
      "metadata": {
        "id": "oODGVMcFZEPz",
        "colab_type": "code",
        "colab": {}
      },
      "source": [
        "match_homonyms = pd.read_csv('/content/drive/My Drive/CMPUT600_data/match_homonyms.csv')"
      ],
      "execution_count": 0,
      "outputs": []
    },
    {
      "cell_type": "markdown",
      "metadata": {
        "id": "cUFhNuOyKJW3",
        "colab_type": "text"
      },
      "source": [
        "Merge the homonym mapping with SemCor using the sense numbers."
      ]
    },
    {
      "cell_type": "code",
      "metadata": {
        "id": "BXnqVGduNKD-",
        "colab_type": "code",
        "colab": {}
      },
      "source": [
        "# Checkpoint 1\n",
        "hom_res_map = pd.read_csv('/content/drive/My Drive/CMPUT600_data/hk20-homonym-resource_mappings_v01.tsv', sep='\\t', header=None, names=['sense_number', 'hom_type'])"
      ],
      "execution_count": 0,
      "outputs": []
    },
    {
      "cell_type": "code",
      "metadata": {
        "id": "wtQ2RrxZxYL_",
        "colab_type": "code",
        "colab": {}
      },
      "source": [
        "semcor_true_lemmas = pd.read_csv('/content/drive/My Drive/CMPUT600_data/semcor_true_lemmas.csv')"
      ],
      "execution_count": 0,
      "outputs": []
    },
    {
      "cell_type": "code",
      "metadata": {
        "id": "JEDhI2EnYnzO",
        "colab_type": "code",
        "outputId": "bdb50ffa-55c7-455d-87bd-04620ae948e6",
        "colab": {
          "base_uri": "https://localhost:8080/",
          "height": 195
        }
      },
      "source": [
        "semcor_true_lemmas.head()"
      ],
      "execution_count": 0,
      "outputs": [
        {
          "output_type": "execute_result",
          "data": {
            "text/html": [
              "<div>\n",
              "<style scoped>\n",
              "    .dataframe tbody tr th:only-of-type {\n",
              "        vertical-align: middle;\n",
              "    }\n",
              "\n",
              "    .dataframe tbody tr th {\n",
              "        vertical-align: top;\n",
              "    }\n",
              "\n",
              "    .dataframe thead th {\n",
              "        text-align: right;\n",
              "    }\n",
              "</style>\n",
              "<table border=\"1\" class=\"dataframe\">\n",
              "  <thead>\n",
              "    <tr style=\"text-align: right;\">\n",
              "      <th></th>\n",
              "      <th>sent_id</th>\n",
              "      <th>sent</th>\n",
              "      <th>word_num</th>\n",
              "      <th>un_id</th>\n",
              "      <th>lemma</th>\n",
              "      <th>pos_tag</th>\n",
              "      <th>sense_key</th>\n",
              "      <th>sense_number</th>\n",
              "    </tr>\n",
              "  </thead>\n",
              "  <tbody>\n",
              "    <tr>\n",
              "      <th>0</th>\n",
              "      <td>d000.s000</td>\n",
              "      <td>how long has it been since you reviewed the ob...</td>\n",
              "      <td>1</td>\n",
              "      <td>semcor.d000.s000.t000</td>\n",
              "      <td>long</td>\n",
              "      <td>ADJ</td>\n",
              "      <td>long%3:00:02::</td>\n",
              "      <td>long#a#3</td>\n",
              "    </tr>\n",
              "    <tr>\n",
              "      <th>1</th>\n",
              "      <td>d000.s004</td>\n",
              "      <td>have you set specific objectives for your empl...</td>\n",
              "      <td>2</td>\n",
              "      <td>semcor.d000.s004.t000</td>\n",
              "      <td>set</td>\n",
              "      <td>VERB</td>\n",
              "      <td>set%2:32:00::</td>\n",
              "      <td>set#v#2</td>\n",
              "    </tr>\n",
              "    <tr>\n",
              "      <th>2</th>\n",
              "      <td>d000.s011</td>\n",
              "      <td>when improvements are recommended in working c...</td>\n",
              "      <td>18</td>\n",
              "      <td>semcor.d000.s011.t009</td>\n",
              "      <td>set</td>\n",
              "      <td>VERB</td>\n",
              "      <td>set%2:32:00::</td>\n",
              "      <td>set#v#2</td>\n",
              "    </tr>\n",
              "    <tr>\n",
              "      <th>3</th>\n",
              "      <td>d000.s016</td>\n",
              "      <td>have you publicized the cents per hour value o...</td>\n",
              "      <td>12</td>\n",
              "      <td>semcor.d000.s016.t005</td>\n",
              "      <td>share</td>\n",
              "      <td>NOUN</td>\n",
              "      <td>share%1:21:00::</td>\n",
              "      <td>share#n#1</td>\n",
              "    </tr>\n",
              "    <tr>\n",
              "      <th>4</th>\n",
              "      <td>d000.s017</td>\n",
              "      <td>when did you last compare your present premium...</td>\n",
              "      <td>3</td>\n",
              "      <td>semcor.d000.s017.t000</td>\n",
              "      <td>last</td>\n",
              "      <td>ADV</td>\n",
              "      <td>last%4:02:00::</td>\n",
              "      <td>last#a#4</td>\n",
              "    </tr>\n",
              "  </tbody>\n",
              "</table>\n",
              "</div>"
            ],
            "text/plain": [
              "     sent_id  ... sense_number\n",
              "0  d000.s000  ...     long#a#3\n",
              "1  d000.s004  ...      set#v#2\n",
              "2  d000.s011  ...      set#v#2\n",
              "3  d000.s016  ...    share#n#1\n",
              "4  d000.s017  ...     last#a#4\n",
              "\n",
              "[5 rows x 8 columns]"
            ]
          },
          "metadata": {
            "tags": []
          },
          "execution_count": 49
        }
      ]
    },
    {
      "cell_type": "code",
      "metadata": {
        "id": "w947x7KLNxx_",
        "colab_type": "code",
        "outputId": "d336b1e2-0a3c-4b18-eaf7-d019f3b5587c",
        "colab": {
          "base_uri": "https://localhost:8080/",
          "height": 195
        }
      },
      "source": [
        "hom_res_map.head()"
      ],
      "execution_count": 0,
      "outputs": [
        {
          "output_type": "execute_result",
          "data": {
            "text/html": [
              "<div>\n",
              "<style scoped>\n",
              "    .dataframe tbody tr th:only-of-type {\n",
              "        vertical-align: middle;\n",
              "    }\n",
              "\n",
              "    .dataframe tbody tr th {\n",
              "        vertical-align: top;\n",
              "    }\n",
              "\n",
              "    .dataframe thead th {\n",
              "        text-align: right;\n",
              "    }\n",
              "</style>\n",
              "<table border=\"1\" class=\"dataframe\">\n",
              "  <thead>\n",
              "    <tr style=\"text-align: right;\">\n",
              "      <th></th>\n",
              "      <th>sense_number</th>\n",
              "      <th>hom_type</th>\n",
              "    </tr>\n",
              "  </thead>\n",
              "  <tbody>\n",
              "    <tr>\n",
              "      <th>0</th>\n",
              "      <td>affect#v#1</td>\n",
              "      <td>100</td>\n",
              "    </tr>\n",
              "    <tr>\n",
              "      <th>1</th>\n",
              "      <td>affect#v#2</td>\n",
              "      <td>100</td>\n",
              "    </tr>\n",
              "    <tr>\n",
              "      <th>2</th>\n",
              "      <td>affect#v#3</td>\n",
              "      <td>100</td>\n",
              "    </tr>\n",
              "    <tr>\n",
              "      <th>3</th>\n",
              "      <td>affect#v#4</td>\n",
              "      <td>200</td>\n",
              "    </tr>\n",
              "    <tr>\n",
              "      <th>4</th>\n",
              "      <td>affect#v#5</td>\n",
              "      <td>100</td>\n",
              "    </tr>\n",
              "  </tbody>\n",
              "</table>\n",
              "</div>"
            ],
            "text/plain": [
              "  sense_number  hom_type\n",
              "0   affect#v#1       100\n",
              "1   affect#v#2       100\n",
              "2   affect#v#3       100\n",
              "3   affect#v#4       200\n",
              "4   affect#v#5       100"
            ]
          },
          "metadata": {
            "tags": []
          },
          "execution_count": 50
        }
      ]
    },
    {
      "cell_type": "code",
      "metadata": {
        "id": "5ZGCUIiAOvF7",
        "colab_type": "code",
        "outputId": "6473e743-e87b-4fb2-ae00-d6c7aaa0bfb3",
        "colab": {
          "base_uri": "https://localhost:8080/",
          "height": 34
        }
      },
      "source": [
        "len(semcor_true_lemmas)"
      ],
      "execution_count": 0,
      "outputs": [
        {
          "output_type": "execute_result",
          "data": {
            "text/plain": [
              "8090"
            ]
          },
          "metadata": {
            "tags": []
          },
          "execution_count": 51
        }
      ]
    },
    {
      "cell_type": "code",
      "metadata": {
        "id": "KqAabbMvOyiN",
        "colab_type": "code",
        "outputId": "da7e8ddd-86e2-441e-e76b-d369732468bd",
        "colab": {
          "base_uri": "https://localhost:8080/",
          "height": 34
        }
      },
      "source": [
        "len(hom_res_map)"
      ],
      "execution_count": 0,
      "outputs": [
        {
          "output_type": "execute_result",
          "data": {
            "text/plain": [
              "5203"
            ]
          },
          "metadata": {
            "tags": []
          },
          "execution_count": 52
        }
      ]
    },
    {
      "cell_type": "code",
      "metadata": {
        "id": "IQePd37_O62p",
        "colab_type": "code",
        "colab": {}
      },
      "source": [
        "# We do an inner merge to drop any rows that have sense numbers not found in both the hom_res_map and semcor_true_lemmas\n",
        "semcor_true_mapped = pd.merge(semcor_true_lemmas, hom_res_map, how='inner', on='sense_number')"
      ],
      "execution_count": 0,
      "outputs": []
    },
    {
      "cell_type": "code",
      "metadata": {
        "id": "daR2_aQruc4v",
        "colab_type": "code",
        "outputId": "761c75a0-6549-4527-a233-3c379950eed2",
        "colab": {
          "base_uri": "https://localhost:8080/",
          "height": 34
        }
      },
      "source": [
        "len(semcor_true_mapped)"
      ],
      "execution_count": 0,
      "outputs": [
        {
          "output_type": "execute_result",
          "data": {
            "text/plain": [
              "7246"
            ]
          },
          "metadata": {
            "tags": []
          },
          "execution_count": 54
        }
      ]
    },
    {
      "cell_type": "code",
      "metadata": {
        "id": "ak-VjNM4bWHc",
        "colab_type": "code",
        "outputId": "c57df08a-bc83-47fc-90aa-86ad9298aeb3",
        "colab": {
          "base_uri": "https://localhost:8080/",
          "height": 343
        }
      },
      "source": [
        "semcor_true_mapped.head(10)"
      ],
      "execution_count": 0,
      "outputs": [
        {
          "output_type": "execute_result",
          "data": {
            "text/html": [
              "<div>\n",
              "<style scoped>\n",
              "    .dataframe tbody tr th:only-of-type {\n",
              "        vertical-align: middle;\n",
              "    }\n",
              "\n",
              "    .dataframe tbody tr th {\n",
              "        vertical-align: top;\n",
              "    }\n",
              "\n",
              "    .dataframe thead th {\n",
              "        text-align: right;\n",
              "    }\n",
              "</style>\n",
              "<table border=\"1\" class=\"dataframe\">\n",
              "  <thead>\n",
              "    <tr style=\"text-align: right;\">\n",
              "      <th></th>\n",
              "      <th>sent_id</th>\n",
              "      <th>sent</th>\n",
              "      <th>word_num</th>\n",
              "      <th>un_id</th>\n",
              "      <th>lemma</th>\n",
              "      <th>pos_tag</th>\n",
              "      <th>sense_key</th>\n",
              "      <th>sense_number</th>\n",
              "      <th>hom_type</th>\n",
              "    </tr>\n",
              "  </thead>\n",
              "  <tbody>\n",
              "    <tr>\n",
              "      <th>0</th>\n",
              "      <td>d000.s000</td>\n",
              "      <td>how long has it been since you reviewed the ob...</td>\n",
              "      <td>1</td>\n",
              "      <td>semcor.d000.s000.t000</td>\n",
              "      <td>long</td>\n",
              "      <td>ADJ</td>\n",
              "      <td>long%3:00:02::</td>\n",
              "      <td>long#a#3</td>\n",
              "      <td>100</td>\n",
              "    </tr>\n",
              "    <tr>\n",
              "      <th>1</th>\n",
              "      <td>d000.s100</td>\n",
              "      <td>vending machines can alleviate the long hike t...</td>\n",
              "      <td>4</td>\n",
              "      <td>semcor.d000.s100.t002</td>\n",
              "      <td>long</td>\n",
              "      <td>ADJ</td>\n",
              "      <td>long%3:00:01::</td>\n",
              "      <td>long#a#3</td>\n",
              "      <td>100</td>\n",
              "    </tr>\n",
              "    <tr>\n",
              "      <th>2</th>\n",
              "      <td>d001.s081</td>\n",
              "      <td>two millions were added to what had been set a...</td>\n",
              "      <td>21</td>\n",
              "      <td>semcor.d001.s081.t007</td>\n",
              "      <td>long</td>\n",
              "      <td>ADJ</td>\n",
              "      <td>long%3:00:02::</td>\n",
              "      <td>long#a#3</td>\n",
              "      <td>100</td>\n",
              "    </tr>\n",
              "    <tr>\n",
              "      <th>3</th>\n",
              "      <td>d002.s039</td>\n",
              "      <td>hudson now proposed to sail all the way throug...</td>\n",
              "      <td>14</td>\n",
              "      <td>semcor.d002.s039.t008</td>\n",
              "      <td>long</td>\n",
              "      <td>ADJ</td>\n",
              "      <td>long%3:00:02::</td>\n",
              "      <td>long#a#3</td>\n",
              "      <td>100</td>\n",
              "    </tr>\n",
              "    <tr>\n",
              "      <th>4</th>\n",
              "      <td>d002.s088</td>\n",
              "      <td>all through july the discovery picked her way ...</td>\n",
              "      <td>12</td>\n",
              "      <td>semcor.d002.s088.t004</td>\n",
              "      <td>long</td>\n",
              "      <td>ADJ</td>\n",
              "      <td>long%3:00:01::</td>\n",
              "      <td>long#a#3</td>\n",
              "      <td>100</td>\n",
              "    </tr>\n",
              "    <tr>\n",
              "      <th>5</th>\n",
              "      <td>d004.s020</td>\n",
              "      <td>the first result of heidenstam &amp;apos;s long so...</td>\n",
              "      <td>6</td>\n",
              "      <td>semcor.d004.s020.t003</td>\n",
              "      <td>long</td>\n",
              "      <td>ADJ</td>\n",
              "      <td>long%3:00:02::</td>\n",
              "      <td>long#a#3</td>\n",
              "      <td>100</td>\n",
              "    </tr>\n",
              "    <tr>\n",
              "      <th>6</th>\n",
              "      <td>d004.s045</td>\n",
              "      <td>his next major work completed in 1892 was a lo...</td>\n",
              "      <td>9</td>\n",
              "      <td>semcor.d004.s045.t005</td>\n",
              "      <td>long</td>\n",
              "      <td>ADJ</td>\n",
              "      <td>long%3:00:01::</td>\n",
              "      <td>long#a#3</td>\n",
              "      <td>100</td>\n",
              "    </tr>\n",
              "    <tr>\n",
              "      <th>7</th>\n",
              "      <td>d004.s058</td>\n",
              "      <td>about one-third as long it is less intimate an...</td>\n",
              "      <td>3</td>\n",
              "      <td>semcor.d004.s058.t002</td>\n",
              "      <td>long</td>\n",
              "      <td>ADJ</td>\n",
              "      <td>long%3:00:01::</td>\n",
              "      <td>long#a#3</td>\n",
              "      <td>100</td>\n",
              "    </tr>\n",
              "    <tr>\n",
              "      <th>8</th>\n",
              "      <td>d004.s083</td>\n",
              "      <td>in the king &amp;apos;s ride &amp;apos;&amp;apos; charles ...</td>\n",
              "      <td>10</td>\n",
              "      <td>semcor.d004.s083.t002</td>\n",
              "      <td>long</td>\n",
              "      <td>ADJ</td>\n",
              "      <td>long%3:00:02::</td>\n",
              "      <td>long#a#3</td>\n",
              "      <td>100</td>\n",
              "    </tr>\n",
              "    <tr>\n",
              "      <th>9</th>\n",
              "      <td>d005.s000</td>\n",
              "      <td>oersted &amp;apos;s boyhood represented a minimal ...</td>\n",
              "      <td>20</td>\n",
              "      <td>semcor.d005.s000.t012</td>\n",
              "      <td>long</td>\n",
              "      <td>ADJ</td>\n",
              "      <td>long%3:00:02::</td>\n",
              "      <td>long#a#3</td>\n",
              "      <td>100</td>\n",
              "    </tr>\n",
              "  </tbody>\n",
              "</table>\n",
              "</div>"
            ],
            "text/plain": [
              "     sent_id  ... hom_type\n",
              "0  d000.s000  ...      100\n",
              "1  d000.s100  ...      100\n",
              "2  d001.s081  ...      100\n",
              "3  d002.s039  ...      100\n",
              "4  d002.s088  ...      100\n",
              "5  d004.s020  ...      100\n",
              "6  d004.s045  ...      100\n",
              "7  d004.s058  ...      100\n",
              "8  d004.s083  ...      100\n",
              "9  d005.s000  ...      100\n",
              "\n",
              "[10 rows x 9 columns]"
            ]
          },
          "metadata": {
            "tags": []
          },
          "execution_count": 55
        }
      ]
    },
    {
      "cell_type": "code",
      "metadata": {
        "id": "1QlsETETuydS",
        "colab_type": "code",
        "colab": {}
      },
      "source": [
        "# Writing semcor_true_mapped to csv\n",
        "semcor_true_mapped.to_csv('/content/drive/My Drive/CMPUT600_data/semcor_true_mapped.csv', index=False)"
      ],
      "execution_count": 0,
      "outputs": []
    },
    {
      "cell_type": "code",
      "metadata": {
        "id": "eklMoSFnza5t",
        "colab_type": "code",
        "colab": {}
      },
      "source": [
        "# Checkpoint 2\n",
        "#semcor_true_mapped = pd.read_csv('/content/drive/My Drive/CMPUT600_data/semcor_true_mapped.csv')\n",
        "#match_homonyms = pd.read_csv('/content/drive/My Drive/CMPUT600_data/match_homonyms.csv')"
      ],
      "execution_count": 0,
      "outputs": []
    },
    {
      "cell_type": "code",
      "metadata": {
        "id": "AEMyOipvPUuc",
        "colab_type": "code",
        "colab": {}
      },
      "source": [
        "# This loop will collect a list of the homonyms that are not actually homonymous in SemCor\n",
        "no_rep_homs = []\n",
        "for lemma in match_homonyms['word']:\n",
        "  nums = []\n",
        "  for i in range(0, len(semcor_true_mapped)):\n",
        "    if (semcor_true_mapped['lemma'].iloc[i] == lemma):\n",
        "      nums.append(semcor_true_mapped['hom_type'].iloc[i])\n",
        "  distinct_homs = list(set(nums))\n",
        "  length = len(distinct_homs)\n",
        "  if (length <= 1):\n",
        "    no_rep_homs.append(lemma)\n",
        "    no_rep_homs = list(set(no_rep_homs))"
      ],
      "execution_count": 0,
      "outputs": []
    },
    {
      "cell_type": "code",
      "metadata": {
        "id": "UDPCTLymd2Rz",
        "colab_type": "code",
        "outputId": "5d150f9f-3b63-4431-b8b8-3702204ec57d",
        "colab": {
          "base_uri": "https://localhost:8080/",
          "height": 34
        }
      },
      "source": [
        "len(no_rep_homs)"
      ],
      "execution_count": 0,
      "outputs": [
        {
          "output_type": "execute_result",
          "data": {
            "text/plain": [
              "442"
            ]
          },
          "metadata": {
            "tags": []
          },
          "execution_count": 59
        }
      ]
    },
    {
      "cell_type": "code",
      "metadata": {
        "id": "Pj682TqfseeU",
        "colab_type": "code",
        "colab": {}
      },
      "source": [
        "all_homs = list(set(match_homonyms['word']))"
      ],
      "execution_count": 0,
      "outputs": []
    },
    {
      "cell_type": "code",
      "metadata": {
        "id": "aPpAtiA-smW4",
        "colab_type": "code",
        "outputId": "b1a07362-70ec-4a87-9525-b6248e52bb3e",
        "colab": {
          "base_uri": "https://localhost:8080/",
          "height": 34
        }
      },
      "source": [
        "len(all_homs)"
      ],
      "execution_count": 0,
      "outputs": [
        {
          "output_type": "execute_result",
          "data": {
            "text/plain": [
              "499"
            ]
          },
          "metadata": {
            "tags": []
          },
          "execution_count": 61
        }
      ]
    },
    {
      "cell_type": "code",
      "metadata": {
        "id": "xNGTBsdWCr4c",
        "colab_type": "code",
        "colab": {}
      },
      "source": [
        "# Collect a list of indices for lemmas that do not appear in no_rep_homs, i.e. lemmas that have multiple homonyms present in the dataset\n",
        "keepers = []\n",
        "for i in range(0, len(semcor_true_mapped)):\n",
        "  if (semcor_true_mapped['lemma'][i] not in no_rep_homs):\n",
        "    keepers.append(i)\n",
        "  else:\n",
        "    pass\n"
      ],
      "execution_count": 0,
      "outputs": []
    },
    {
      "cell_type": "code",
      "metadata": {
        "id": "dJHufKOtHU4t",
        "colab_type": "code",
        "outputId": "efe19d72-5352-47d0-81b7-48d5fc077713",
        "colab": {
          "base_uri": "https://localhost:8080/",
          "height": 34
        }
      },
      "source": [
        "keepers[0:10]"
      ],
      "execution_count": 0,
      "outputs": [
        {
          "output_type": "execute_result",
          "data": {
            "text/plain": [
              "[160, 161, 162, 163, 164, 165, 166, 167, 168, 169]"
            ]
          },
          "metadata": {
            "tags": []
          },
          "execution_count": 63
        }
      ]
    },
    {
      "cell_type": "code",
      "metadata": {
        "colab_type": "code",
        "id": "YP2w-JqIWiNW",
        "colab": {}
      },
      "source": [
        "# This df contains all entries that correspond to a lemma that has multiple homonyms present\n",
        "semcor_truehoms = semcor_true_mapped.iloc[keepers]"
      ],
      "execution_count": 0,
      "outputs": []
    },
    {
      "cell_type": "code",
      "metadata": {
        "id": "-EC47Ab7WjQP",
        "colab_type": "code",
        "outputId": "1a361dc8-3239-457b-e347-a01dbc5ecb02",
        "colab": {
          "base_uri": "https://localhost:8080/",
          "height": 34
        }
      },
      "source": [
        "len(set(semcor_truehoms['lemma']))"
      ],
      "execution_count": 0,
      "outputs": [
        {
          "output_type": "execute_result",
          "data": {
            "text/plain": [
              "57"
            ]
          },
          "metadata": {
            "tags": []
          },
          "execution_count": 65
        }
      ]
    },
    {
      "cell_type": "code",
      "metadata": {
        "id": "taVyuxBMKcce",
        "colab_type": "code",
        "colab": {}
      },
      "source": [
        "#Writing to csv in case runtime resets\n",
        "semcor_truehoms.to_csv('/content/drive/My Drive/CMPUT600_data/semcor_truehoms.csv', index=False)"
      ],
      "execution_count": 0,
      "outputs": []
    },
    {
      "cell_type": "code",
      "metadata": {
        "id": "re3cZSffKBe0",
        "colab_type": "code",
        "colab": {}
      },
      "source": [
        "# Checkpoint 3\n",
        "semcor_truehoms = pd.read_csv('/content/drive/My Drive/CMPUT600_data/semcor_truehoms.csv')"
      ],
      "execution_count": 0,
      "outputs": []
    },
    {
      "cell_type": "code",
      "metadata": {
        "id": "IvpyLZpTNGd8",
        "colab_type": "code",
        "outputId": "89e8ceed-4ebd-4488-d017-3d9580e07d23",
        "colab": {
          "base_uri": "https://localhost:8080/",
          "height": 101
        }
      },
      "source": [
        "semcor_truehoms['hom_id'] = ''\n",
        "for i in range(0, len(semcor_truehoms)):\n",
        "  un = str(str(semcor_truehoms['sense_number'].iloc[i]) + '#' + str(semcor_truehoms['hom_type'].iloc[i]))\n",
        "  semcor_truehoms['hom_id'].iloc[i] = un"
      ],
      "execution_count": 0,
      "outputs": [
        {
          "output_type": "stream",
          "text": [
            "/usr/local/lib/python3.6/dist-packages/pandas/core/indexing.py:671: SettingWithCopyWarning: \n",
            "A value is trying to be set on a copy of a slice from a DataFrame\n",
            "\n",
            "See the caveats in the documentation: https://pandas.pydata.org/pandas-docs/stable/user_guide/indexing.html#returning-a-view-versus-a-copy\n",
            "  self._setitem_with_indexer(indexer, value)\n"
          ],
          "name": "stderr"
        }
      ]
    },
    {
      "cell_type": "code",
      "metadata": {
        "id": "QaviJTPtW5VK",
        "colab_type": "code",
        "outputId": "f1d243eb-5a57-4d26-af2c-5fcd4ad85dd2",
        "colab": {
          "base_uri": "https://localhost:8080/",
          "height": 195
        }
      },
      "source": [
        "semcor_truehoms.head()"
      ],
      "execution_count": 0,
      "outputs": [
        {
          "output_type": "execute_result",
          "data": {
            "text/html": [
              "<div>\n",
              "<style scoped>\n",
              "    .dataframe tbody tr th:only-of-type {\n",
              "        vertical-align: middle;\n",
              "    }\n",
              "\n",
              "    .dataframe tbody tr th {\n",
              "        vertical-align: top;\n",
              "    }\n",
              "\n",
              "    .dataframe thead th {\n",
              "        text-align: right;\n",
              "    }\n",
              "</style>\n",
              "<table border=\"1\" class=\"dataframe\">\n",
              "  <thead>\n",
              "    <tr style=\"text-align: right;\">\n",
              "      <th></th>\n",
              "      <th>sent_id</th>\n",
              "      <th>sent</th>\n",
              "      <th>word_num</th>\n",
              "      <th>un_id</th>\n",
              "      <th>lemma</th>\n",
              "      <th>pos_tag</th>\n",
              "      <th>sense_key</th>\n",
              "      <th>sense_number</th>\n",
              "      <th>hom_type</th>\n",
              "      <th>hom_id</th>\n",
              "    </tr>\n",
              "  </thead>\n",
              "  <tbody>\n",
              "    <tr>\n",
              "      <th>0</th>\n",
              "      <td>d000.s004</td>\n",
              "      <td>have you set specific objectives for your empl...</td>\n",
              "      <td>2</td>\n",
              "      <td>semcor.d000.s004.t000</td>\n",
              "      <td>set</td>\n",
              "      <td>VERB</td>\n",
              "      <td>set%2:32:00::</td>\n",
              "      <td>set#v#2</td>\n",
              "      <td>100</td>\n",
              "      <td>set#v#2#100</td>\n",
              "    </tr>\n",
              "    <tr>\n",
              "      <th>1</th>\n",
              "      <td>d000.s011</td>\n",
              "      <td>when improvements are recommended in working c...</td>\n",
              "      <td>18</td>\n",
              "      <td>semcor.d000.s011.t009</td>\n",
              "      <td>set</td>\n",
              "      <td>VERB</td>\n",
              "      <td>set%2:32:00::</td>\n",
              "      <td>set#v#2</td>\n",
              "      <td>100</td>\n",
              "      <td>set#v#2#100</td>\n",
              "    </tr>\n",
              "    <tr>\n",
              "      <th>2</th>\n",
              "      <td>d007.s034</td>\n",
              "      <td>mortars had demolished the defense ministry an...</td>\n",
              "      <td>7</td>\n",
              "      <td>semcor.d007.s034.t004</td>\n",
              "      <td>set</td>\n",
              "      <td>VERB</td>\n",
              "      <td>set%2:36:12::</td>\n",
              "      <td>set#v#2</td>\n",
              "      <td>100</td>\n",
              "      <td>set#v#2#100</td>\n",
              "    </tr>\n",
              "    <tr>\n",
              "      <th>3</th>\n",
              "      <td>d030.s046</td>\n",
              "      <td>then o &amp;apos; banion was presented with a plat...</td>\n",
              "      <td>8</td>\n",
              "      <td>semcor.d030.s046.t005</td>\n",
              "      <td>set</td>\n",
              "      <td>VERB</td>\n",
              "      <td>set%2:35:02::</td>\n",
              "      <td>set#v#2</td>\n",
              "      <td>100</td>\n",
              "      <td>set#v#2#100</td>\n",
              "    </tr>\n",
              "    <tr>\n",
              "      <th>4</th>\n",
              "      <td>d032.s023</td>\n",
              "      <td>she set the dipper on the edge of the deck lea...</td>\n",
              "      <td>1</td>\n",
              "      <td>semcor.d032.s023.t000</td>\n",
              "      <td>set</td>\n",
              "      <td>VERB</td>\n",
              "      <td>set%2:35:00::</td>\n",
              "      <td>set#v#2</td>\n",
              "      <td>100</td>\n",
              "      <td>set#v#2#100</td>\n",
              "    </tr>\n",
              "  </tbody>\n",
              "</table>\n",
              "</div>"
            ],
            "text/plain": [
              "     sent_id  ...       hom_id\n",
              "0  d000.s004  ...  set#v#2#100\n",
              "1  d000.s011  ...  set#v#2#100\n",
              "2  d007.s034  ...  set#v#2#100\n",
              "3  d030.s046  ...  set#v#2#100\n",
              "4  d032.s023  ...  set#v#2#100\n",
              "\n",
              "[5 rows x 10 columns]"
            ]
          },
          "metadata": {
            "tags": []
          },
          "execution_count": 69
        }
      ]
    },
    {
      "cell_type": "code",
      "metadata": {
        "id": "F7b78s7MOQsr",
        "colab_type": "code",
        "colab": {}
      },
      "source": [
        "occurences = semcor_truehoms['hom_id'].value_counts()"
      ],
      "execution_count": 0,
      "outputs": []
    },
    {
      "cell_type": "code",
      "metadata": {
        "id": "oi-FhRumTRMg",
        "colab_type": "code",
        "outputId": "89cf9659-ead8-4d8c-a1aa-161c4207adb8",
        "colab": {
          "base_uri": "https://localhost:8080/",
          "height": 34
        }
      },
      "source": [
        "len(occurences)"
      ],
      "execution_count": 0,
      "outputs": [
        {
          "output_type": "execute_result",
          "data": {
            "text/plain": [
              "132"
            ]
          },
          "metadata": {
            "tags": []
          },
          "execution_count": 71
        }
      ]
    },
    {
      "cell_type": "code",
      "metadata": {
        "id": "Zz48ADzQTgOp",
        "colab_type": "code",
        "colab": {}
      },
      "source": [
        "# This will eliminate rows that have a unique hom_id in the dataset. The idea is that there would be only one example of that \n",
        "# homonymous sense so it should be excluded for clustering purposes.\n",
        "rep_homs = semcor_truehoms.groupby('hom_id').filter(lambda hom_id: len(hom_id) > 1)"
      ],
      "execution_count": 0,
      "outputs": []
    },
    {
      "cell_type": "code",
      "metadata": {
        "id": "NYZa1k70XG57",
        "colab_type": "code",
        "outputId": "b3a75a7c-fb03-46d7-965d-717c7e847f2d",
        "colab": {
          "base_uri": "https://localhost:8080/",
          "height": 34
        }
      },
      "source": [
        "len(set(rep_homs['lemma']))"
      ],
      "execution_count": 0,
      "outputs": [
        {
          "output_type": "execute_result",
          "data": {
            "text/plain": [
              "52"
            ]
          },
          "metadata": {
            "tags": []
          },
          "execution_count": 73
        }
      ]
    },
    {
      "cell_type": "code",
      "metadata": {
        "id": "NnVhIOkLYAxB",
        "colab_type": "code",
        "colab": {}
      },
      "source": [
        "rep_homs = rep_homs.reset_index(drop=True)"
      ],
      "execution_count": 0,
      "outputs": []
    },
    {
      "cell_type": "code",
      "metadata": {
        "colab_type": "code",
        "id": "yVQ38-u6XY9w",
        "colab": {}
      },
      "source": [
        "no_rep_homs = []\n",
        "for lemma in rep_homs['lemma']:\n",
        "  nums = []\n",
        "  for i in range(0, len(rep_homs)):\n",
        "    if (rep_homs['lemma'].iloc[i] == lemma):\n",
        "      nums.append(rep_homs['hom_type'].iloc[i])\n",
        "  distinct_homs = list(set(nums))\n",
        "  length = len(distinct_homs)\n",
        "  if (length <= 1):\n",
        "    no_rep_homs.append(lemma)\n",
        "    no_rep_homs = list(set(no_rep_homs))"
      ],
      "execution_count": 0,
      "outputs": []
    },
    {
      "cell_type": "code",
      "metadata": {
        "id": "RIFYk6itXZ6n",
        "colab_type": "code",
        "outputId": "3e26252b-000a-4925-9c67-3a9f0011f45b",
        "colab": {
          "base_uri": "https://localhost:8080/",
          "height": 34
        }
      },
      "source": [
        "len(no_rep_homs)"
      ],
      "execution_count": 0,
      "outputs": [
        {
          "output_type": "execute_result",
          "data": {
            "text/plain": [
              "15"
            ]
          },
          "metadata": {
            "tags": []
          },
          "execution_count": 76
        }
      ]
    },
    {
      "cell_type": "code",
      "metadata": {
        "id": "S5ZrQ2PVY8a5",
        "colab_type": "code",
        "colab": {}
      },
      "source": [
        "# Collect a list of indices for lemmas that do not appear in no_rep_homs, i.e. lemmas that have multiple homonyms present in the dataset\n",
        "keepers = []\n",
        "for i in range(0, len(rep_homs)):\n",
        "  if (rep_homs['lemma'][i] not in no_rep_homs):\n",
        "    keepers.append(i)\n",
        "  else:\n",
        "    pass"
      ],
      "execution_count": 0,
      "outputs": []
    },
    {
      "cell_type": "code",
      "metadata": {
        "id": "wjZZsNGDah7i",
        "colab_type": "code",
        "colab": {}
      },
      "source": [
        "semcor_final = rep_homs.iloc[keepers]"
      ],
      "execution_count": 0,
      "outputs": []
    },
    {
      "cell_type": "code",
      "metadata": {
        "id": "erUz_dqvmATK",
        "colab_type": "code",
        "colab": {}
      },
      "source": [
        "semcor_final = semcor_final.reset_index(drop=True)"
      ],
      "execution_count": 0,
      "outputs": []
    },
    {
      "cell_type": "code",
      "metadata": {
        "id": "B7xEu48iaoeI",
        "colab_type": "code",
        "outputId": "2bef2cfc-4330-4558-e17c-1872320b448b",
        "colab": {
          "base_uri": "https://localhost:8080/",
          "height": 34
        }
      },
      "source": [
        "len(set(semcor_final['lemma']))"
      ],
      "execution_count": 0,
      "outputs": [
        {
          "output_type": "execute_result",
          "data": {
            "text/plain": [
              "37"
            ]
          },
          "metadata": {
            "tags": []
          },
          "execution_count": 80
        }
      ]
    },
    {
      "cell_type": "code",
      "metadata": {
        "id": "UNmGyDHLbQnJ",
        "colab_type": "code",
        "colab": {}
      },
      "source": [
        "# Write semcor_final to csv. This contains entries in semcor that have a lemma present in the homonym list and have at least two entries with \n",
        "#multiple homonyms. There are about 37 distinct lemmas. \n",
        "# Checkpoint 4\n",
        "semcor_final.to_csv('/content/drive/My Drive/CMPUT600_data/semcor_final.csv', index=False)"
      ],
      "execution_count": 0,
      "outputs": []
    },
    {
      "cell_type": "code",
      "metadata": {
        "id": "RuOfXGgkj_yZ",
        "colab_type": "code",
        "colab": {}
      },
      "source": [
        "remaining_homs = list(set(semcor_final['lemma']))"
      ],
      "execution_count": 0,
      "outputs": []
    },
    {
      "cell_type": "code",
      "metadata": {
        "id": "5ysu2A4VkJlO",
        "colab_type": "code",
        "outputId": "2ded4288-e7a6-4ff2-e667-db5bf7ac91dc",
        "colab": {
          "base_uri": "https://localhost:8080/",
          "height": 34
        }
      },
      "source": [
        "remaining_homs[0:8]"
      ],
      "execution_count": 0,
      "outputs": [
        {
          "output_type": "execute_result",
          "data": {
            "text/plain": [
              "['well', 'light', 'fly', 'stick', 'fit', 'lean', 'sound', 'pound']"
            ]
          },
          "metadata": {
            "tags": []
          },
          "execution_count": 83
        }
      ]
    },
    {
      "cell_type": "code",
      "metadata": {
        "id": "Z0wqqKCrZoN-",
        "colab_type": "code",
        "colab": {}
      },
      "source": [
        "occurences = semcor_final['hom_id'].value_counts()\n"
      ],
      "execution_count": 0,
      "outputs": []
    },
    {
      "cell_type": "code",
      "metadata": {
        "id": "-nHumRbrZlaM",
        "colab_type": "code",
        "colab": {}
      },
      "source": [
        "semcor_final = pd.read_csv('/content/drive/My Drive/CMPUT600_data/semcor_final.csv')"
      ],
      "execution_count": 0,
      "outputs": []
    },
    {
      "cell_type": "code",
      "metadata": {
        "id": "nKlAT7vI1lUA",
        "colab_type": "code",
        "outputId": "6966443b-8e65-4c6c-9202-93b84cdf9249",
        "colab": {
          "base_uri": "https://localhost:8080/",
          "height": 195
        }
      },
      "source": [
        "semcor_final.head()"
      ],
      "execution_count": 0,
      "outputs": [
        {
          "output_type": "execute_result",
          "data": {
            "text/html": [
              "<div>\n",
              "<style scoped>\n",
              "    .dataframe tbody tr th:only-of-type {\n",
              "        vertical-align: middle;\n",
              "    }\n",
              "\n",
              "    .dataframe tbody tr th {\n",
              "        vertical-align: top;\n",
              "    }\n",
              "\n",
              "    .dataframe thead th {\n",
              "        text-align: right;\n",
              "    }\n",
              "</style>\n",
              "<table border=\"1\" class=\"dataframe\">\n",
              "  <thead>\n",
              "    <tr style=\"text-align: right;\">\n",
              "      <th></th>\n",
              "      <th>sent_id</th>\n",
              "      <th>sent</th>\n",
              "      <th>word_num</th>\n",
              "      <th>un_id</th>\n",
              "      <th>lemma</th>\n",
              "      <th>pos_tag</th>\n",
              "      <th>sense_key</th>\n",
              "      <th>sense_number</th>\n",
              "      <th>hom_type</th>\n",
              "      <th>hom_id</th>\n",
              "    </tr>\n",
              "  </thead>\n",
              "  <tbody>\n",
              "    <tr>\n",
              "      <th>0</th>\n",
              "      <td>d000.s004</td>\n",
              "      <td>have you set specific objectives for your empl...</td>\n",
              "      <td>2</td>\n",
              "      <td>semcor.d000.s004.t000</td>\n",
              "      <td>set</td>\n",
              "      <td>VERB</td>\n",
              "      <td>set%2:32:00::</td>\n",
              "      <td>set#v#2</td>\n",
              "      <td>100</td>\n",
              "      <td>set#v#2#100</td>\n",
              "    </tr>\n",
              "    <tr>\n",
              "      <th>1</th>\n",
              "      <td>d000.s011</td>\n",
              "      <td>when improvements are recommended in working c...</td>\n",
              "      <td>18</td>\n",
              "      <td>semcor.d000.s011.t009</td>\n",
              "      <td>set</td>\n",
              "      <td>VERB</td>\n",
              "      <td>set%2:32:00::</td>\n",
              "      <td>set#v#2</td>\n",
              "      <td>100</td>\n",
              "      <td>set#v#2#100</td>\n",
              "    </tr>\n",
              "    <tr>\n",
              "      <th>2</th>\n",
              "      <td>d007.s034</td>\n",
              "      <td>mortars had demolished the defense ministry an...</td>\n",
              "      <td>7</td>\n",
              "      <td>semcor.d007.s034.t004</td>\n",
              "      <td>set</td>\n",
              "      <td>VERB</td>\n",
              "      <td>set%2:36:12::</td>\n",
              "      <td>set#v#2</td>\n",
              "      <td>100</td>\n",
              "      <td>set#v#2#100</td>\n",
              "    </tr>\n",
              "    <tr>\n",
              "      <th>3</th>\n",
              "      <td>d030.s046</td>\n",
              "      <td>then o &amp;apos; banion was presented with a plat...</td>\n",
              "      <td>8</td>\n",
              "      <td>semcor.d030.s046.t005</td>\n",
              "      <td>set</td>\n",
              "      <td>VERB</td>\n",
              "      <td>set%2:35:02::</td>\n",
              "      <td>set#v#2</td>\n",
              "      <td>100</td>\n",
              "      <td>set#v#2#100</td>\n",
              "    </tr>\n",
              "    <tr>\n",
              "      <th>4</th>\n",
              "      <td>d032.s023</td>\n",
              "      <td>she set the dipper on the edge of the deck lea...</td>\n",
              "      <td>1</td>\n",
              "      <td>semcor.d032.s023.t000</td>\n",
              "      <td>set</td>\n",
              "      <td>VERB</td>\n",
              "      <td>set%2:35:00::</td>\n",
              "      <td>set#v#2</td>\n",
              "      <td>100</td>\n",
              "      <td>set#v#2#100</td>\n",
              "    </tr>\n",
              "  </tbody>\n",
              "</table>\n",
              "</div>"
            ],
            "text/plain": [
              "     sent_id  ...       hom_id\n",
              "0  d000.s004  ...  set#v#2#100\n",
              "1  d000.s011  ...  set#v#2#100\n",
              "2  d007.s034  ...  set#v#2#100\n",
              "3  d030.s046  ...  set#v#2#100\n",
              "4  d032.s023  ...  set#v#2#100\n",
              "\n",
              "[5 rows x 10 columns]"
            ]
          },
          "metadata": {
            "tags": []
          },
          "execution_count": 86
        }
      ]
    },
    {
      "cell_type": "code",
      "metadata": {
        "id": "YyqNuPtp1xRe",
        "colab_type": "code",
        "colab": {}
      },
      "source": [
        "semcor_final['bert_sent'] = \"\""
      ],
      "execution_count": 0,
      "outputs": []
    },
    {
      "cell_type": "code",
      "metadata": {
        "id": "xxpd-gjW2F8m",
        "colab_type": "code",
        "outputId": "0af1a5ce-10d6-4f25-ae0a-35485648462d",
        "colab": {
          "base_uri": "https://localhost:8080/",
          "height": 101
        }
      },
      "source": [
        "# Create new column that will have sentences to feed into BERT (Using all the words in a sentence as the context!)\n",
        "for i in range(0, len(semcor_final)):\n",
        "  words = semcor_final['sent'][i].split()\n",
        "  spot = semcor_final['word_num'][i]\n",
        "  length = len(words)\n",
        "  start = max(0, (spot - 10))\n",
        "  end = min(length, (spot + 10))\n",
        "  truncate = words[start:end]\n",
        "  semcor_final['bert_sent'][i] = ' '.join(word for word in truncate)"
      ],
      "execution_count": 0,
      "outputs": [
        {
          "output_type": "stream",
          "text": [
            "/usr/local/lib/python3.6/dist-packages/ipykernel_launcher.py:8: SettingWithCopyWarning: \n",
            "A value is trying to be set on a copy of a slice from a DataFrame\n",
            "\n",
            "See the caveats in the documentation: https://pandas.pydata.org/pandas-docs/stable/user_guide/indexing.html#returning-a-view-versus-a-copy\n",
            "  \n"
          ],
          "name": "stderr"
        }
      ]
    },
    {
      "cell_type": "code",
      "metadata": {
        "id": "QGzmuMPR2T1g",
        "colab_type": "code",
        "outputId": "87a795f0-a2a6-43a3-8917-d911f91445a6",
        "colab": {
          "base_uri": "https://localhost:8080/",
          "height": 279
        }
      },
      "source": [
        "semcor_final.head()"
      ],
      "execution_count": 0,
      "outputs": [
        {
          "output_type": "execute_result",
          "data": {
            "text/html": [
              "<div>\n",
              "<style scoped>\n",
              "    .dataframe tbody tr th:only-of-type {\n",
              "        vertical-align: middle;\n",
              "    }\n",
              "\n",
              "    .dataframe tbody tr th {\n",
              "        vertical-align: top;\n",
              "    }\n",
              "\n",
              "    .dataframe thead th {\n",
              "        text-align: right;\n",
              "    }\n",
              "</style>\n",
              "<table border=\"1\" class=\"dataframe\">\n",
              "  <thead>\n",
              "    <tr style=\"text-align: right;\">\n",
              "      <th></th>\n",
              "      <th>sent_id</th>\n",
              "      <th>sent</th>\n",
              "      <th>word_num</th>\n",
              "      <th>un_id</th>\n",
              "      <th>lemma</th>\n",
              "      <th>pos_tag</th>\n",
              "      <th>sense_key</th>\n",
              "      <th>sense_number</th>\n",
              "      <th>hom_type</th>\n",
              "      <th>hom_id</th>\n",
              "      <th>bert_sent</th>\n",
              "    </tr>\n",
              "  </thead>\n",
              "  <tbody>\n",
              "    <tr>\n",
              "      <th>0</th>\n",
              "      <td>d000.s004</td>\n",
              "      <td>have you set specific objectives for your empl...</td>\n",
              "      <td>2</td>\n",
              "      <td>semcor.d000.s004.t000</td>\n",
              "      <td>set</td>\n",
              "      <td>VERB</td>\n",
              "      <td>set%2:32:00::</td>\n",
              "      <td>set#v#2</td>\n",
              "      <td>100</td>\n",
              "      <td>set#v#2#100</td>\n",
              "      <td>have you set specific objectives for your empl...</td>\n",
              "    </tr>\n",
              "    <tr>\n",
              "      <th>1</th>\n",
              "      <td>d000.s011</td>\n",
              "      <td>when improvements are recommended in working c...</td>\n",
              "      <td>18</td>\n",
              "      <td>semcor.d000.s011.t009</td>\n",
              "      <td>set</td>\n",
              "      <td>VERB</td>\n",
              "      <td>set%2:32:00::</td>\n",
              "      <td>set#v#2</td>\n",
              "      <td>100</td>\n",
              "      <td>set#v#2#100</td>\n",
              "      <td>as lighting rest rooms eating facilities air-c...</td>\n",
              "    </tr>\n",
              "    <tr>\n",
              "      <th>2</th>\n",
              "      <td>d007.s034</td>\n",
              "      <td>mortars had demolished the defense ministry an...</td>\n",
              "      <td>7</td>\n",
              "      <td>semcor.d007.s034.t004</td>\n",
              "      <td>set</td>\n",
              "      <td>VERB</td>\n",
              "      <td>set%2:36:12::</td>\n",
              "      <td>set#v#2</td>\n",
              "      <td>100</td>\n",
              "      <td>set#v#2#100</td>\n",
              "      <td>mortars had demolished the defense ministry an...</td>\n",
              "    </tr>\n",
              "    <tr>\n",
              "      <th>3</th>\n",
              "      <td>d030.s046</td>\n",
              "      <td>then o &amp;apos; banion was presented with a plat...</td>\n",
              "      <td>8</td>\n",
              "      <td>semcor.d030.s046.t005</td>\n",
              "      <td>set</td>\n",
              "      <td>VERB</td>\n",
              "      <td>set%2:35:02::</td>\n",
              "      <td>set#v#2</td>\n",
              "      <td>100</td>\n",
              "      <td>set#v#2#100</td>\n",
              "      <td>then o &amp;apos; banion was presented with a plat...</td>\n",
              "    </tr>\n",
              "    <tr>\n",
              "      <th>4</th>\n",
              "      <td>d032.s023</td>\n",
              "      <td>she set the dipper on the edge of the deck lea...</td>\n",
              "      <td>1</td>\n",
              "      <td>semcor.d032.s023.t000</td>\n",
              "      <td>set</td>\n",
              "      <td>VERB</td>\n",
              "      <td>set%2:35:00::</td>\n",
              "      <td>set#v#2</td>\n",
              "      <td>100</td>\n",
              "      <td>set#v#2#100</td>\n",
              "      <td>she set the dipper on the edge of the deck lea...</td>\n",
              "    </tr>\n",
              "  </tbody>\n",
              "</table>\n",
              "</div>"
            ],
            "text/plain": [
              "     sent_id  ...                                          bert_sent\n",
              "0  d000.s004  ...  have you set specific objectives for your empl...\n",
              "1  d000.s011  ...  as lighting rest rooms eating facilities air-c...\n",
              "2  d007.s034  ...  mortars had demolished the defense ministry an...\n",
              "3  d030.s046  ...  then o &apos; banion was presented with a plat...\n",
              "4  d032.s023  ...  she set the dipper on the edge of the deck lea...\n",
              "\n",
              "[5 rows x 11 columns]"
            ]
          },
          "metadata": {
            "tags": []
          },
          "execution_count": 95
        }
      ]
    },
    {
      "cell_type": "code",
      "metadata": {
        "id": "1huLLthS2Xyw",
        "colab_type": "code",
        "colab": {}
      },
      "source": [
        "# Contains only the data from semcor - reason, semcor contains 37 homonyms after reducing the file size.\n",
        "# Checkpoint 5\n",
        "semcor_final.to_csv('/content/drive/My Drive/CMPUT600_data/semcor_final.csv', index=False)"
      ],
      "execution_count": 0,
      "outputs": []
    },
    {
      "cell_type": "code",
      "metadata": {
        "id": "5Xwgt4wW2uJo",
        "colab_type": "code",
        "colab": {}
      },
      "source": [
        "# len(semcor_final[semcor_final['lemma'] == 'light' and semcor_final['hom_type'] == 400])"
      ],
      "execution_count": 0,
      "outputs": []
    },
    {
      "cell_type": "code",
      "metadata": {
        "id": "Wd_sETEC4mHP",
        "colab_type": "code",
        "colab": {}
      },
      "source": [
        "import pandas as pd\n",
        "semcor_final = pd.read_csv('/content/drive/My Drive/CMPUT600_data/semcor_final.csv')"
      ],
      "execution_count": 0,
      "outputs": []
    },
    {
      "cell_type": "code",
      "metadata": {
        "colab_type": "code",
        "id": "UI8xzFbjZHBE",
        "colab": {}
      },
      "source": [
        "sentences = []\n",
        "for i in range(0, len(semcor_final)):\n",
        "  if (('mean' == semcor_final['lemma'][i]) and (' mean ' in semcor_final['bert_sent'][i])):\n",
        "    sentences.append(i)"
      ],
      "execution_count": 0,
      "outputs": []
    },
    {
      "cell_type": "code",
      "metadata": {
        "id": "dxHOHey18gB2",
        "colab_type": "code",
        "outputId": "58393c9f-f746-4e8d-ace4-bc4db3ff89ff",
        "colab": {
          "base_uri": "https://localhost:8080/",
          "height": 279
        }
      },
      "source": [
        "semcor_final[200:205] # mean is another example of a homonym for which SemCor has sentences containing two distinct lemmas."
      ],
      "execution_count": 0,
      "outputs": [
        {
          "output_type": "execute_result",
          "data": {
            "text/html": [
              "<div>\n",
              "<style scoped>\n",
              "    .dataframe tbody tr th:only-of-type {\n",
              "        vertical-align: middle;\n",
              "    }\n",
              "\n",
              "    .dataframe tbody tr th {\n",
              "        vertical-align: top;\n",
              "    }\n",
              "\n",
              "    .dataframe thead th {\n",
              "        text-align: right;\n",
              "    }\n",
              "</style>\n",
              "<table border=\"1\" class=\"dataframe\">\n",
              "  <thead>\n",
              "    <tr style=\"text-align: right;\">\n",
              "      <th></th>\n",
              "      <th>sent_id</th>\n",
              "      <th>sent</th>\n",
              "      <th>word_num</th>\n",
              "      <th>un_id</th>\n",
              "      <th>lemma</th>\n",
              "      <th>pos_tag</th>\n",
              "      <th>sense_key</th>\n",
              "      <th>sense_number</th>\n",
              "      <th>hom_type</th>\n",
              "      <th>hom_id</th>\n",
              "      <th>bert_sent</th>\n",
              "    </tr>\n",
              "  </thead>\n",
              "  <tbody>\n",
              "    <tr>\n",
              "      <th>200</th>\n",
              "      <td>d149.s124</td>\n",
              "      <td>and for him to leave this job now without acco...</td>\n",
              "      <td>12</td>\n",
              "      <td>semcor.d149.s124.t004</td>\n",
              "      <td>mean</td>\n",
              "      <td>VERB</td>\n",
              "      <td>mean%2:42:00::</td>\n",
              "      <td>mean#v#2</td>\n",
              "      <td>100</td>\n",
              "      <td>mean#v#2#100</td>\n",
              "      <td>him to leave this job now without accomplishin...</td>\n",
              "    </tr>\n",
              "    <tr>\n",
              "      <th>201</th>\n",
              "      <td>d156.s046</td>\n",
              "      <td>this would mean it can readily be seen that ag...</td>\n",
              "      <td>2</td>\n",
              "      <td>semcor.d156.s046.t000</td>\n",
              "      <td>mean</td>\n",
              "      <td>VERB</td>\n",
              "      <td>mean%2:42:00::</td>\n",
              "      <td>mean#v#2</td>\n",
              "      <td>100</td>\n",
              "      <td>mean#v#2#100</td>\n",
              "      <td>this would mean it can readily be seen that ag...</td>\n",
              "    </tr>\n",
              "    <tr>\n",
              "      <th>202</th>\n",
              "      <td>d162.s059</td>\n",
              "      <td>but my people martians i mean i now grok you a...</td>\n",
              "      <td>5</td>\n",
              "      <td>semcor.d162.s059.t002</td>\n",
              "      <td>mean</td>\n",
              "      <td>VERB</td>\n",
              "      <td>mean%2:32:01::</td>\n",
              "      <td>mean#v#2</td>\n",
              "      <td>100</td>\n",
              "      <td>mean#v#2#100</td>\n",
              "      <td>but my people martians i mean i now grok you a...</td>\n",
              "    </tr>\n",
              "    <tr>\n",
              "      <th>203</th>\n",
              "      <td>d162.s088</td>\n",
              "      <td>is that i mean &amp;apos; do you know &amp;apos;&amp;apos;...</td>\n",
              "      <td>3</td>\n",
              "      <td>semcor.d162.s088.t000</td>\n",
              "      <td>mean</td>\n",
              "      <td>VERB</td>\n",
              "      <td>mean%2:32:01::</td>\n",
              "      <td>mean#v#2</td>\n",
              "      <td>100</td>\n",
              "      <td>mean#v#2#100</td>\n",
              "      <td>is that i mean &amp;apos; do you know &amp;apos;&amp;apos;...</td>\n",
              "    </tr>\n",
              "    <tr>\n",
              "      <th>204</th>\n",
              "      <td>d162.s132</td>\n",
              "      <td>you mean this punk can brush me aside and i &amp;a...</td>\n",
              "      <td>1</td>\n",
              "      <td>semcor.d162.s132.t000</td>\n",
              "      <td>mean</td>\n",
              "      <td>VERB</td>\n",
              "      <td>mean%2:32:01::</td>\n",
              "      <td>mean#v#2</td>\n",
              "      <td>100</td>\n",
              "      <td>mean#v#2#100</td>\n",
              "      <td>you mean this punk can brush me aside and i &amp;a...</td>\n",
              "    </tr>\n",
              "  </tbody>\n",
              "</table>\n",
              "</div>"
            ],
            "text/plain": [
              "       sent_id  ...                                          bert_sent\n",
              "200  d149.s124  ...  him to leave this job now without accomplishin...\n",
              "201  d156.s046  ...  this would mean it can readily be seen that ag...\n",
              "202  d162.s059  ...  but my people martians i mean i now grok you a...\n",
              "203  d162.s088  ...  is that i mean &apos; do you know &apos;&apos;...\n",
              "204  d162.s132  ...  you mean this punk can brush me aside and i &a...\n",
              "\n",
              "[5 rows x 11 columns]"
            ]
          },
          "metadata": {
            "tags": []
          },
          "execution_count": 100
        }
      ]
    },
    {
      "cell_type": "code",
      "metadata": {
        "colab_type": "code",
        "id": "CJfZP5eaZF4S",
        "colab": {}
      },
      "source": [
        "# test_sents = rep_homs.iloc[sentences]\n",
        "test_sents = semcor_final.iloc[sentences]"
      ],
      "execution_count": 0,
      "outputs": []
    },
    {
      "cell_type": "code",
      "metadata": {
        "id": "LsG25zylAAwz",
        "colab_type": "code",
        "outputId": "06fec52d-c71b-42c9-deff-027dfee71b3b",
        "colab": {
          "base_uri": "https://localhost:8080/",
          "height": 34
        }
      },
      "source": [
        "len(test_sents)"
      ],
      "execution_count": 0,
      "outputs": [
        {
          "output_type": "execute_result",
          "data": {
            "text/plain": [
              "135"
            ]
          },
          "metadata": {
            "tags": []
          },
          "execution_count": 102
        }
      ]
    },
    {
      "cell_type": "markdown",
      "metadata": {
        "id": "c0JFItvggIP8",
        "colab_type": "text"
      },
      "source": [
        "Collecting all the sentences for a target word under consideration and grouping them with the sense number of the target word. \n",
        "This is done to later average the contextual embeddings for a specific sense of the target word."
      ]
    },
    {
      "cell_type": "code",
      "metadata": {
        "id": "F_8QLvsg_7UM",
        "colab_type": "code",
        "outputId": "6420f3bf-6bd2-40a2-f756-240f819465eb",
        "colab": {
          "base_uri": "https://localhost:8080/",
          "height": 54
        }
      },
      "source": [
        "senses = dict()\n",
        "corr_homs = []\n",
        "for row in test_sents.values:\n",
        "  senses[row[6] + str(row[8])] = []\n",
        "\n",
        "for row in test_sents.values:\n",
        "  senses[row[6] + str(row[8])].append(row[10])\n",
        "print(senses)"
      ],
      "execution_count": 0,
      "outputs": [
        {
          "output_type": "stream",
          "text": [
            "{'mean%2:42:00::100': ['this will mean that every time there &apos;s an increase in hospital', 'a crucial question therefore is what evangelism and mission actually mean in metropolitan protestantism', 'what i am saying does not mean that there will henceforth be no form in art', 'an &apos; that could mean trouble with a fella that &apos;s workin &apos; for', 'in another locality on short notice such a move may mean a loss of capital', 'this does not mean in a purely bureaucratic sense but in an active', 'the selection of the wrong tools can mean waste at best and at worst an unwanted inflammation', 'combat helping your co make a fool of himself might mean getting yourself killed', 'success may mean merely the displacement of western influence', 'i take this to mean that the intelligent and therefore necessarily cynical', 'this does not mean that mythological language as such can no longer be', 'work of christ as the bestowal of incorruptibility which can mean though it does not have to mean deliverance from', 'incorruptibility which can mean though it does not have to mean deliverance from time and history', 'him to leave this job now without accomplishing anything would mean practically the end of his career in the methodist', 'this would mean it can readily be seen that again for each', 'it can mean the difference between participation and inaction spiritual growth and', 'were the only completely new designs this year does n&apos;t mean that 1961 did n&apos;t see changes in models actions', 'fiscal dates or adoption of interim budgets do not necessarily mean financing over and above normal governmental requirements', '&apos;&apos; he indicated and to tell them what this will mean for the town &apos;&apos;', 'as we understand the word today and it did not mean an abandonment of the belief in magic manipulation', 'indicated in the early weeks of the month this could mean a shortage of as high as 17000', 'however this does not mean that a child &apos;s teeth or jaws must necessarily', 'and this would mean that we live in a mechanistic universe governed by', 'belief that a geneva breakdown or even continued stalemate would mean an unchecked spread of nuclear weapons to other countries', 'danger points and setbacks for the west this may merely mean the new administration has not yet firmly fixed its', 'us prepare for peace instead of for a war which would mean the end of civilization', 'this did not mean that married students could not enroll in other mixed', 'used to attack a nation &apos;s people which would inevitably mean the loss of the attacker &apos;s own people or', 'which does not mean that it is ugly', 'for hotels with 1000 rooms the increased license fee would mean an expense of 5000 a year goodis said', 'provide more copy &apos;&apos; for marshall &apos;s pen would thus mean more publicity for welch', 'but because science is based on mathematics does n&apos;t mean that a hot rodder must necessarily be a mathematician', 'be designed and oriented for best operation and this can mean savings both in the size of equipment and in', 'this matter is of great importance and the outcome may mean the difference between life or death or at least', 'some plant-location specialists take these signs to mean st. louis county does n&apos;t want industry and so'], 'mean%2:32:01::100': ['i mean surely we &apos;ve &apos;&apos;', 'i mean is advertising honest', 'did i mean &apos;&apos;', 'i mean we all figured i guess anybody &apos;d figure angie', 'you mean anyone who stood up for his rights &apos;&apos; curt', 'i mean i &apos;ve got to to see to the kitchen', 'calling out the beat assignments but matson could n&apos;t make the names mean anything', 'what did you mean by that rattlesnake gag', 'what else would i mean anyways &apos;&apos;', 'have seemed to emphasize the structure of the composition i mean to project equal concern for color', 'that &apos;s what i mean by no heart for the game', 'here i do not mean catharsis the discharge of emotion', 'i mean something more like freud &apos;s concept of the utility', 'i use this term to mean three things a search for the human significance of', 'you mean it phil', 'i do not mean to suggest that these assumptions are self-evident in the', 'i do mean however that i take them for granted and that', 'what i mean is he was a pole and the greatest soldier', 'he thought a moment then inquired you mean petted &apos;&apos;', 'before deriving this formula we explain what we mean by problems of this kind &apos;&apos;', 'i do n&apos;t mean miss ada', 'i mean our children &apos;&apos;', 'you mean picture of me &apos;&apos;', 'but my people martians i mean i now grok you are my people teach plants', 'is that i mean &apos; do you know &apos;&apos; &apos;', 'you mean this punk can brush me aside and i &apos;ve', 'when we say that is good &apos;&apos; we do not mean to assert a character of the subject of which', 'i shall argue that we do mean to do just that', 'i hold on the contrary that we mean to assert something of the pain itself', 'event and shows that this would render false what we mean to say whereas on positivist grounds it should not', 'if we did not mean to say this why should we be so relieved', 'she &apos;s probably getting old crotchety i mean and we figured uh-uh better not', 'i mean do you feel like seeing kate &apos;&apos;', 'i do n&apos;t mean a few aesthetes who play about with sensations like', 'judge parsons leaned over the bench and inquired you mean some of the defendants made statements admitting this &apos;&apos;', 'you mean a game with cards &apos;&apos;', 'i mean we know the order in which things happen but', 'that &apos;s what i mean about you anderson &apos;&apos; she said', 'me were to ask his daughter for a date i mean after i &apos;m out of the hospital a month', 'what does it mean to be creative a term we hear with increasing', 'the outcome in last fall &apos;s presidential election did not mean that eisenhower republicanism was a dead issue', 'their president jefferson davis interpreted their constitution to mean that it admits of no coerced association &apos;&apos; but', 'institute of public administration that metropolian planning in rhode island means or should mean state planning &apos;&apos; the state guide', 'administration that metropolian planning in rhode island means or should mean state planning &apos;&apos; the state guide plan will take', 'easier to write than the white man but they obviously mean by this not a negro personality but a negro', 'i mean &apos;&apos; i went on ruthlessly when he &apos;s not', 'you mean you &apos;re all alone mr. richards &apos;&apos;', 'i mean however that the moral theologian knows what he means', 'i mean however that the moral theologian knows what he means by permit &apos;&apos;', 'he does not mean in fact he addresses himself specifically to reject the', 'you see i thought i mean i really had no idea &apos;&apos;', 'do you mean &apos;&apos; he asked almost shyly you want me to', 'you mean you dragged your wife all over hell &apos;s half-acre', 'i mean we do n&apos;t have any way to get there', 'the above discussion does not mean to imply that control factors were completely in abeyance'], 'mean%2:31:00::100': ['i do n&apos;t mean to pry but do they hide the swimsuit with', 'forget that i had told him that i did n&apos;t mean to reconsider my decision not to change my mind', 'he does not mean to say that adam lost the similitude of god', 'they all mean well have great promises to make when they are', 'i do not mean to imply that christians have adopted the liberal assumption', 'in mentioning this under salvation reconsidered &apos;&apos; i do not mean to imply that roman catholic doctrine has changed in'], 'mean%2:32:03::100': ['action in order to fill a vacancy it can also mean the assimilation of centers of power from an environment', 'in the first instance mimesis &apos;&apos; is here used to mean the recalling of experience in terms of vivid images', 'it has come to mean myths legends tales songs proverbs riddles superstitions rhymes and', 'though that does not mean that there may not be such records there', 'yet even that explosion did not mean much', 'the other hand significant facts may be concealed she may mean i or everybody as it did with the tense', 'those names mean anything to you &apos;&apos;', 'contrary to popular opinion a la mode &apos;&apos; does n&apos;t mean with ice cream &apos;&apos; it just means in the', '&apos;&apos; does n&apos;t mean with ice cream &apos;&apos; it just means in the latest style', 'is of course easy to see how j &apos;&apos; will mean uncle jack to one person and little jane to'], 'mean%2:31:01::100': ['by monitoring we mean some system of control over the types of information', 'when i question them as to what they mean by concepts like liberty and democracy i find that', 'glow as he said you see both of them i mean the president and jeff lawrence are romantics', 'a mythological mode of thought must be completely abandoned we mean it must be abandoned as the sole or proper', 'this is what we mean when we say this demand must be accepted without', 'i know what you mean &apos;&apos; moreland sighed', 'by personal factors i mean those rooted in personality structure'], 'mean%2:42:03::100': ['unless we send out the whole pie their pieces mean nothing &apos;&apos;'], 'mean%5:00:00:normal:01200': ['figure 1 portrays the mean achievement scores of each sub-group graphically', 'figure 2 is a graph of the mean achievement scores of each group', '.01 level can be seen best in the contrast of mean scores', 'the dot with respect to the vertical marking denoting the mean age', 'there the middle one of the three curves denotes mean skeletal age &apos;&apos; for the maturity series boys and', 'this figures 3 and 4 have been constructed from the mean ages and the individual onset and completion ages for', 'onset age and completion age with respect to the corresponding mean age have been brought into juxtaposition by means of', 'months between the child &apos;s onset age and the corresponding mean age for the growth center', 'difference between the child &apos;s completion age and the corresponding mean age for the growth center', '21 growth centers of each child with respect to the mean values for these boys and girls', 'completion ages of individual children with respect to the appropriate mean age for each growth center', 'the mean onset age was 25.3 months table 1 and the', 'field shifts were derived from the mean value of the resonance line defined as the field', 'release of iodine from the thyroid increase in thyroid weight increase in mean height of the follicular cells and increase', 'the mean temperature of this region was approximated by the temperature', 'the mean temperature of the surface was then computed according to'], 'mean%5:00:00:ignoble:01200': ['i think you &apos;re mean and hateful and stupid and louder &apos;&apos; said joyce', 'of finding a white worm curled up in a neat mean little heap at the white center of the radish'], 'mean%5:00:00:nasty:00200': ['he sees also and he shows the blind and the mean and he sees the compson family disintegrating from within', 'he had a mean unbroken sheer bastard in his outfit and someone invented', 'he was like a mean horse to come at from the rear']}\n"
          ],
          "name": "stdout"
        }
      ]
    },
    {
      "cell_type": "code",
      "metadata": {
        "id": "nc4IkPFGk2eD",
        "colab_type": "code",
        "outputId": "6b579a61-f97a-4185-b21c-f63d59c86cd7",
        "colab": {
          "base_uri": "https://localhost:8080/",
          "height": 303
        }
      },
      "source": [
        "pip install --upgrade numpy\n"
      ],
      "execution_count": 0,
      "outputs": [
        {
          "output_type": "stream",
          "text": [
            "Collecting numpy\n",
            "\u001b[?25l  Downloading https://files.pythonhosted.org/packages/07/08/a549ba8b061005bb629b76adc000f3caaaf881028b963c2e18f811c6edc1/numpy-1.18.2-cp36-cp36m-manylinux1_x86_64.whl (20.2MB)\n",
            "\u001b[K     |████████████████████████████████| 20.2MB 24.7MB/s \n",
            "\u001b[31mERROR: mxnet 1.4.0 has requirement numpy<1.15.0,>=1.8.2, but you'll have numpy 1.18.2 which is incompatible.\u001b[0m\n",
            "\u001b[31mERROR: datascience 0.10.6 has requirement folium==0.2.1, but you'll have folium 0.8.3 which is incompatible.\u001b[0m\n",
            "\u001b[31mERROR: bert-embedding 1.0.1 has requirement numpy==1.14.6, but you'll have numpy 1.18.2 which is incompatible.\u001b[0m\n",
            "\u001b[31mERROR: albumentations 0.1.12 has requirement imgaug<0.2.7,>=0.2.5, but you'll have imgaug 0.2.9 which is incompatible.\u001b[0m\n",
            "\u001b[?25hInstalling collected packages: numpy\n",
            "  Found existing installation: numpy 1.14.6\n",
            "    Uninstalling numpy-1.14.6:\n",
            "      Successfully uninstalled numpy-1.14.6\n",
            "Successfully installed numpy-1.18.2\n"
          ],
          "name": "stdout"
        },
        {
          "output_type": "display_data",
          "data": {
            "application/vnd.colab-display-data+json": {
              "pip_warning": {
                "packages": [
                  "numpy"
                ]
              }
            }
          },
          "metadata": {
            "tags": []
          }
        }
      ]
    },
    {
      "cell_type": "code",
      "metadata": {
        "id": "TGzHyw9mk-hf",
        "colab_type": "code",
        "colab": {}
      },
      "source": [
        "import numpy as np"
      ],
      "execution_count": 0,
      "outputs": []
    },
    {
      "cell_type": "code",
      "metadata": {
        "id": "NJmRnGntie6Z",
        "colab_type": "code",
        "colab": {}
      },
      "source": [
        "# Embeddings for the word 'mean'. This can be changed to the word 'light'.\n",
        "embs = dict()\n",
        "for key in senses:\n",
        "  temp_emb = bert_model(senses[key]) # Feed in all the sentences for a senses of light.\n",
        "  h_embs = []\n",
        "  for row in temp_emb:\n",
        "    try:\n",
        "      h_index = row[0].index('mean')\n",
        "      h_embs.append(row[1][h_index]) # Append the embedding for the word 'light'.\n",
        "    except ValueError:\n",
        "      print(row[0])\n",
        "  temp_list = list(map(sum, zip(*h_embs)))\n",
        "  embs[key] = np.divide(temp_list, len(temp_list))\n",
        "# print(embs)"
      ],
      "execution_count": 0,
      "outputs": []
    },
    {
      "cell_type": "code",
      "metadata": {
        "id": "pCRo3y1ClLRf",
        "colab_type": "code",
        "colab": {}
      },
      "source": [
        "# Extract the homonym types, i.e. 100, 200, 300, and 400.\n",
        "hom_types = []\n",
        "sense_keys_temp = []\n",
        "avg_embs = []\n",
        "for key in embs:\n",
        "  hom_types.append(key[-3:])\n",
        "  sense_keys_temp.append(key[:-3])\n",
        "  avg_embs.append(embs[key])\n",
        "# print(sense_keys_temp)\n",
        "# print(hom_types)\n"
      ],
      "execution_count": 0,
      "outputs": []
    },
    {
      "cell_type": "code",
      "metadata": {
        "colab_type": "code",
        "id": "oU0aRHciZE9S",
        "colab": {}
      },
      "source": [
        "# Create a new dataframe with all the data extracted in the previous few cells.\n",
        "# avg_emb_dict = {'sense_key':sense_keys_temp, 'hom_type':hom_types, 'avg_emb':avg_embs}\n",
        "avg_emb_zip = zip(sense_keys_temp, hom_types, avg_embs)\n",
        "avg_emb_df = pd.DataFrame(avg_emb_zip, columns=['sense_key', 'hom_type', 'avg_emb'])\n"
      ],
      "execution_count": 0,
      "outputs": []
    },
    {
      "cell_type": "code",
      "metadata": {
        "id": "_J3LCDx4fuu7",
        "colab_type": "code",
        "outputId": "dac3e95a-fc8e-4b86-adfa-faaa78cdc689",
        "colab": {
          "base_uri": "https://localhost:8080/",
          "height": 34
        }
      },
      "source": [
        "len(h_embs)"
      ],
      "execution_count": 0,
      "outputs": [
        {
          "output_type": "execute_result",
          "data": {
            "text/plain": [
              "3"
            ]
          },
          "metadata": {
            "tags": []
          },
          "execution_count": 110
        }
      ]
    },
    {
      "cell_type": "code",
      "metadata": {
        "id": "UqVV9ZQdHYlI",
        "colab_type": "code",
        "colab": {}
      },
      "source": [
        "from sklearn.cluster import DBSCAN\n",
        "from sklearn.cluster import MeanShift\n",
        "from sklearn.cluster import AgglomerativeClustering\n",
        "from sklearn.metrics import pairwise_distances\n",
        "from scipy.spatial.distance import cosine"
      ],
      "execution_count": 0,
      "outputs": []
    },
    {
      "cell_type": "code",
      "metadata": {
        "id": "cz1cEQeF5z1G",
        "colab_type": "code",
        "colab": {}
      },
      "source": [
        "bert_vecs = np.array(avg_embs)"
      ],
      "execution_count": 0,
      "outputs": []
    },
    {
      "cell_type": "code",
      "metadata": {
        "id": "vb4_jAO26gJN",
        "colab_type": "code",
        "outputId": "b134c9a0-2c16-44ca-e2a6-a0f23d7de793",
        "colab": {
          "base_uri": "https://localhost:8080/",
          "height": 34
        }
      },
      "source": [
        "len(bert_vecs)"
      ],
      "execution_count": 0,
      "outputs": [
        {
          "output_type": "execute_result",
          "data": {
            "text/plain": [
              "9"
            ]
          },
          "metadata": {
            "tags": []
          },
          "execution_count": 113
        }
      ]
    },
    {
      "cell_type": "code",
      "metadata": {
        "id": "ruOSrW-657uW",
        "colab_type": "code",
        "outputId": "12495946-273b-49e7-f45b-50ce9b88a46a",
        "colab": {
          "base_uri": "https://localhost:8080/",
          "height": 34
        }
      },
      "source": [
        "cluster = MeanShift().fit(bert_vecs)\n",
        "cluster.labels_"
      ],
      "execution_count": 0,
      "outputs": [
        {
          "output_type": "execute_result",
          "data": {
            "text/plain": [
              "array([3, 1, 0, 0, 0, 0, 2, 0, 0])"
            ]
          },
          "metadata": {
            "tags": []
          },
          "execution_count": 114
        }
      ]
    },
    {
      "cell_type": "code",
      "metadata": {
        "id": "SB1XvdIc5-Pa",
        "colab_type": "code",
        "outputId": "273db465-6efa-4d30-e2c5-62b7b4ff2f84",
        "colab": {
          "base_uri": "https://localhost:8080/",
          "height": 34
        }
      },
      "source": [
        "clustering = DBSCAN(eps=0.25, min_samples=2, metric='cosine').fit(bert_vecs)\n",
        "clustering.labels_"
      ],
      "execution_count": 0,
      "outputs": [
        {
          "output_type": "execute_result",
          "data": {
            "text/plain": [
              "array([ 0,  0,  0,  0,  0, -1, -1,  1,  1])"
            ]
          },
          "metadata": {
            "tags": []
          },
          "execution_count": 115
        }
      ]
    },
    {
      "cell_type": "code",
      "metadata": {
        "id": "IjAGpJI56LqO",
        "colab_type": "code",
        "outputId": "22bad7cb-4472-48c7-ff1d-8ea40cd08b98",
        "colab": {
          "base_uri": "https://localhost:8080/",
          "height": 34
        }
      },
      "source": [
        "ag_cluster = AgglomerativeClustering(n_clusters=None, distance_threshold=0.55).fit(bert_vecs)\n",
        "ag_cluster.labels_"
      ],
      "execution_count": 0,
      "outputs": [
        {
          "output_type": "execute_result",
          "data": {
            "text/plain": [
              "array([0, 0, 1, 1, 1, 1, 1, 1, 1])"
            ]
          },
          "metadata": {
            "tags": []
          },
          "execution_count": 116
        }
      ]
    },
    {
      "cell_type": "code",
      "metadata": {
        "id": "mVSMEmoW7Dub",
        "colab_type": "code",
        "colab": {}
      },
      "source": [
        "# relevant"
      ],
      "execution_count": 0,
      "outputs": []
    },
    {
      "cell_type": "code",
      "metadata": {
        "id": "UB4YsWZNhOkN",
        "colab_type": "code",
        "outputId": "915833fc-cf7c-4f37-d45a-b3fe3ee8ac1b",
        "colab": {
          "base_uri": "https://localhost:8080/",
          "height": 70
        }
      },
      "source": [
        "from sklearn.manifold import TSNE\n",
        "from sklearn.manifold import LocallyLinearEmbedding # Will be used for LLE, LTSA, Hessian LLE, and Modified LLE.\n",
        "from sklearn.manifold import MDS\n",
        "from sklearn.manifold import SpectralEmbedding\n",
        "from sklearn.manifold import Isomap\n",
        "from sklearn.decomposition import PCA\n",
        "import numpy as np\n",
        "import matplotlib.pyplot as plt\n",
        "import seaborn as sns"
      ],
      "execution_count": 0,
      "outputs": [
        {
          "output_type": "stream",
          "text": [
            "/usr/local/lib/python3.6/dist-packages/statsmodels/tools/_testing.py:19: FutureWarning: pandas.util.testing is deprecated. Use the functions in the public API at pandas.testing instead.\n",
            "  import pandas.util.testing as tm\n"
          ],
          "name": "stderr"
        }
      ]
    },
    {
      "cell_type": "markdown",
      "metadata": {
        "id": "Ht9VIqTMguP2",
        "colab_type": "text"
      },
      "source": [
        "Get the projection of the n-dimensional contextual embeddings into a lower dimensional space using differnt dimensionality reduction techniques.\n",
        "\n",
        "\n",
        "\n",
        "NOTE: In the report, the results for TSNE, PCA, and multidimensional scaling is provided because the other techniques do not provide exciting results."
      ]
    },
    {
      "cell_type": "code",
      "metadata": {
        "id": "PgsSBwIDiV3L",
        "colab_type": "code",
        "colab": {}
      },
      "source": [
        "matrix = np.array(avg_embs)\n",
        "# tsne = TSNE(n_components=2, perplexity=5.0, early_exaggeration=12.0, metric='cosine',  init='pca').fit_transform(matrix)\n",
        "tsne = TSNE(n_components=2).fit_transform(matrix)\n",
        "pca = PCA(n_components=2).fit_transform(matrix)\n",
        "lle = LocallyLinearEmbedding().fit_transform(matrix)\n",
        "mds = MDS(dissimilarity='euclidean').fit_transform(matrix)\n",
        "isomap = Isomap().fit_transform(matrix)\n",
        "spectral = SpectralEmbedding().fit_transform(matrix)"
      ],
      "execution_count": 0,
      "outputs": []
    },
    {
      "cell_type": "code",
      "metadata": {
        "id": "Kc6-Dt1Ai1So",
        "colab_type": "code",
        "outputId": "a3e2d917-a706-4fcd-9743-18fb3b212565",
        "colab": {
          "base_uri": "https://localhost:8080/",
          "height": 70
        }
      },
      "source": [
        "import numpy\n",
        "import matplotlib.pyplot as plt\n",
        "import seaborn as sns"
      ],
      "execution_count": 0,
      "outputs": [
        {
          "output_type": "stream",
          "text": [
            "/usr/local/lib/python3.6/dist-packages/statsmodels/tools/_testing.py:19: FutureWarning: pandas.util.testing is deprecated. Use the functions in the public API at pandas.testing instead.\n",
            "  import pandas.util.testing as tm\n"
          ],
          "name": "stderr"
        }
      ]
    },
    {
      "cell_type": "code",
      "metadata": {
        "id": "U93190g4jQ4u",
        "colab_type": "code",
        "outputId": "b1a94fbb-cb55-470d-9cd2-8d4f45a123a9",
        "colab": {
          "base_uri": "https://localhost:8080/",
          "height": 34
        }
      },
      "source": [
        "tsne[0]"
      ],
      "execution_count": 0,
      "outputs": [
        {
          "output_type": "execute_result",
          "data": {
            "text/plain": [
              "array([ 37.442383, -73.44858 ], dtype=float32)"
            ]
          },
          "metadata": {
            "tags": []
          },
          "execution_count": 121
        }
      ]
    },
    {
      "cell_type": "code",
      "metadata": {
        "id": "d01aK3iHpvMq",
        "colab_type": "code",
        "colab": {}
      },
      "source": [
        "tsne_df = pd.DataFrame({'X': tsne[:, 0], 'Y': tsne[:, 1]})\n",
        "pca_df = pd.DataFrame({'X': pca[:, 0], 'Y': pca[:, 1]})\n",
        "lle_df = pd.DataFrame({'X': lle[:, 0], 'Y': lle[:, 1]})\n",
        "mds_df = pd.DataFrame({'X': mds[:, 0], 'Y': mds[:, 1]})\n",
        "isomap_df = pd.DataFrame({'X': isomap[:, 0], 'Y': isomap[:, 1]})\n",
        "spectral_df = pd.DataFrame({'X': spectral[:, 0], 'Y': spectral[:, 1]})"
      ],
      "execution_count": 0,
      "outputs": []
    },
    {
      "cell_type": "code",
      "metadata": {
        "id": "lzhirHZjIMoW",
        "colab_type": "code",
        "outputId": "05672cec-33a9-41b4-abb6-9808db7c2606",
        "colab": {
          "base_uri": "https://localhost:8080/",
          "height": 195
        }
      },
      "source": [
        "pca_df.head()"
      ],
      "execution_count": 0,
      "outputs": [
        {
          "output_type": "execute_result",
          "data": {
            "text/html": [
              "<div>\n",
              "<style scoped>\n",
              "    .dataframe tbody tr th:only-of-type {\n",
              "        vertical-align: middle;\n",
              "    }\n",
              "\n",
              "    .dataframe tbody tr th {\n",
              "        vertical-align: top;\n",
              "    }\n",
              "\n",
              "    .dataframe thead th {\n",
              "        text-align: right;\n",
              "    }\n",
              "</style>\n",
              "<table border=\"1\" class=\"dataframe\">\n",
              "  <thead>\n",
              "    <tr style=\"text-align: right;\">\n",
              "      <th></th>\n",
              "      <th>X</th>\n",
              "      <th>Y</th>\n",
              "    </tr>\n",
              "  </thead>\n",
              "  <tbody>\n",
              "    <tr>\n",
              "      <th>0</th>\n",
              "      <td>0.234880</td>\n",
              "      <td>0.252769</td>\n",
              "    </tr>\n",
              "    <tr>\n",
              "      <th>1</th>\n",
              "      <td>0.616466</td>\n",
              "      <td>-0.127065</td>\n",
              "    </tr>\n",
              "    <tr>\n",
              "      <th>2</th>\n",
              "      <td>-0.115541</td>\n",
              "      <td>-0.039167</td>\n",
              "    </tr>\n",
              "    <tr>\n",
              "      <th>3</th>\n",
              "      <td>-0.066093</td>\n",
              "      <td>0.012529</td>\n",
              "    </tr>\n",
              "    <tr>\n",
              "      <th>4</th>\n",
              "      <td>-0.086081</td>\n",
              "      <td>-0.030830</td>\n",
              "    </tr>\n",
              "  </tbody>\n",
              "</table>\n",
              "</div>"
            ],
            "text/plain": [
              "          X         Y\n",
              "0  0.234880  0.252769\n",
              "1  0.616466 -0.127065\n",
              "2 -0.115541 -0.039167\n",
              "3 -0.066093  0.012529\n",
              "4 -0.086081 -0.030830"
            ]
          },
          "metadata": {
            "tags": []
          },
          "execution_count": 123
        }
      ]
    },
    {
      "cell_type": "code",
      "metadata": {
        "id": "aE0fsI08IfCx",
        "colab_type": "code",
        "colab": {}
      },
      "source": [
        "# test_sents['sense_key'].head()"
      ],
      "execution_count": 0,
      "outputs": []
    },
    {
      "cell_type": "code",
      "metadata": {
        "id": "mITqIbUep21U",
        "colab_type": "code",
        "colab": {}
      },
      "source": [
        "relevant = pd.concat([avg_emb_df['sense_key'], avg_emb_df['hom_type']], axis = 1)\n",
        "relevant.reset_index(inplace=True,drop=True)\n",
        "mds_df.reset_index(inplace=True, drop=True)\n",
        "relevant = pd.concat([relevant, mds_df], axis=1)\n",
        "labels = [ 0,  0,  0,  0,  0, -1, -1,  1,  1]\n",
        "cluster_labels = pd.DataFrame(labels, columns=['labels'])\n",
        "relevant = pd.concat([relevant, cluster_labels], axis=1)"
      ],
      "execution_count": 0,
      "outputs": []
    },
    {
      "cell_type": "code",
      "metadata": {
        "id": "4UVzQcBUhju5",
        "colab_type": "code",
        "outputId": "e9277cee-5e1d-43c0-9b8f-158f6c29e93d",
        "colab": {
          "base_uri": "https://localhost:8080/",
          "height": 314
        }
      },
      "source": [
        "relevant"
      ],
      "execution_count": 0,
      "outputs": [
        {
          "output_type": "execute_result",
          "data": {
            "text/html": [
              "<div>\n",
              "<style scoped>\n",
              "    .dataframe tbody tr th:only-of-type {\n",
              "        vertical-align: middle;\n",
              "    }\n",
              "\n",
              "    .dataframe tbody tr th {\n",
              "        vertical-align: top;\n",
              "    }\n",
              "\n",
              "    .dataframe thead th {\n",
              "        text-align: right;\n",
              "    }\n",
              "</style>\n",
              "<table border=\"1\" class=\"dataframe\">\n",
              "  <thead>\n",
              "    <tr style=\"text-align: right;\">\n",
              "      <th></th>\n",
              "      <th>sense_key</th>\n",
              "      <th>hom_type</th>\n",
              "      <th>X</th>\n",
              "      <th>Y</th>\n",
              "      <th>labels</th>\n",
              "    </tr>\n",
              "  </thead>\n",
              "  <tbody>\n",
              "    <tr>\n",
              "      <th>0</th>\n",
              "      <td>mean%2:42:00::</td>\n",
              "      <td>100</td>\n",
              "      <td>0.168274</td>\n",
              "      <td>-0.296635</td>\n",
              "      <td>0</td>\n",
              "    </tr>\n",
              "    <tr>\n",
              "      <th>1</th>\n",
              "      <td>mean%2:32:01::</td>\n",
              "      <td>100</td>\n",
              "      <td>0.625548</td>\n",
              "      <td>-0.076785</td>\n",
              "      <td>0</td>\n",
              "    </tr>\n",
              "    <tr>\n",
              "      <th>2</th>\n",
              "      <td>mean%2:31:00::</td>\n",
              "      <td>100</td>\n",
              "      <td>-0.060860</td>\n",
              "      <td>0.093121</td>\n",
              "      <td>0</td>\n",
              "    </tr>\n",
              "    <tr>\n",
              "      <th>3</th>\n",
              "      <td>mean%2:32:03::</td>\n",
              "      <td>100</td>\n",
              "      <td>-0.087158</td>\n",
              "      <td>-0.000898</td>\n",
              "      <td>0</td>\n",
              "    </tr>\n",
              "    <tr>\n",
              "      <th>4</th>\n",
              "      <td>mean%2:31:01::</td>\n",
              "      <td>100</td>\n",
              "      <td>-0.076185</td>\n",
              "      <td>0.045621</td>\n",
              "      <td>0</td>\n",
              "    </tr>\n",
              "    <tr>\n",
              "      <th>5</th>\n",
              "      <td>mean%2:42:03::</td>\n",
              "      <td>100</td>\n",
              "      <td>-0.119828</td>\n",
              "      <td>0.135204</td>\n",
              "      <td>-1</td>\n",
              "    </tr>\n",
              "    <tr>\n",
              "      <th>6</th>\n",
              "      <td>mean%5:00:00:normal:01</td>\n",
              "      <td>200</td>\n",
              "      <td>-0.180032</td>\n",
              "      <td>-0.131904</td>\n",
              "      <td>-1</td>\n",
              "    </tr>\n",
              "    <tr>\n",
              "      <th>7</th>\n",
              "      <td>mean%5:00:00:ignoble:01</td>\n",
              "      <td>200</td>\n",
              "      <td>-0.137211</td>\n",
              "      <td>0.122599</td>\n",
              "      <td>1</td>\n",
              "    </tr>\n",
              "    <tr>\n",
              "      <th>8</th>\n",
              "      <td>mean%5:00:00:nasty:00</td>\n",
              "      <td>200</td>\n",
              "      <td>-0.132548</td>\n",
              "      <td>0.109677</td>\n",
              "      <td>1</td>\n",
              "    </tr>\n",
              "  </tbody>\n",
              "</table>\n",
              "</div>"
            ],
            "text/plain": [
              "                 sense_key hom_type         X         Y  labels\n",
              "0           mean%2:42:00::      100  0.168274 -0.296635       0\n",
              "1           mean%2:32:01::      100  0.625548 -0.076785       0\n",
              "2           mean%2:31:00::      100 -0.060860  0.093121       0\n",
              "3           mean%2:32:03::      100 -0.087158 -0.000898       0\n",
              "4           mean%2:31:01::      100 -0.076185  0.045621       0\n",
              "5           mean%2:42:03::      100 -0.119828  0.135204      -1\n",
              "6   mean%5:00:00:normal:01      200 -0.180032 -0.131904      -1\n",
              "7  mean%5:00:00:ignoble:01      200 -0.137211  0.122599       1\n",
              "8    mean%5:00:00:nasty:00      200 -0.132548  0.109677       1"
            ]
          },
          "metadata": {
            "tags": []
          },
          "execution_count": 126
        }
      ]
    },
    {
      "cell_type": "markdown",
      "metadata": {
        "id": "8bFp8cNvdkiy",
        "colab_type": "text"
      },
      "source": [
        "The following series of cells contain the visualizations for the word 'light' and 'mean' as examples of the dimensionality reduction techniques together with the clustering results.\n",
        "\n",
        "\n",
        "The homonymous word under consideration is mentioned in the first line of each cell."
      ]
    },
    {
      "cell_type": "code",
      "metadata": {
        "id": "chf9ij7ASotJ",
        "colab_type": "code",
        "outputId": "dec21330-6715-4e5a-a5ec-d97b6b8b0140",
        "colab": {
          "base_uri": "https://localhost:8080/",
          "height": 312
        }
      },
      "source": [
        "# For the word 'light'. Do not run this cell becuase the word under consideration might be different now. The plor will change depending on the word.\n",
        "plt.title('Using LLE on averaged embeddings with Hierarchical clustering')\n",
        "sns.scatterplot('X', # Horizontal axis\n",
        "           'Y', # Vertical axis\n",
        "           data=relevant, # Data source\n",
        "            hue='labels', style='hom_type')\n",
        "           #fit_reg=False) # Don't fix a regression line"
      ],
      "execution_count": 0,
      "outputs": [
        {
          "output_type": "execute_result",
          "data": {
            "text/plain": [
              "<matplotlib.axes._subplots.AxesSubplot at 0x7f1e8bde09e8>"
            ]
          },
          "metadata": {
            "tags": []
          },
          "execution_count": 79
        },
        {
          "output_type": "display_data",
          "data": {
            "image/png": "[encoded data removed]",
            "text/plain": [
              "<Figure size 432x288 with 1 Axes>"
            ]
          },
          "metadata": {
            "tags": []
          }
        }
      ]
    },
    {
      "cell_type": "code",
      "metadata": {
        "id": "AtViRFO49gsi",
        "colab_type": "code",
        "outputId": "175b664d-4e7a-4aa9-c59c-ad0b0d7a7d7b",
        "colab": {
          "base_uri": "https://localhost:8080/",
          "height": 312
        }
      },
      "source": [
        "# For the word 'light'.\n",
        "plt.title('Using isomap on averaged embeddings with Hierarchical clustering')\n",
        "sns.scatterplot('X', # Horizontal axis\n",
        "           'Y', # Vertical axis\n",
        "           data=relevant, # Data source\n",
        "            hue='labels', style='hom_type')\n",
        "           #fit_reg=False) # Don't fix a regression line"
      ],
      "execution_count": 0,
      "outputs": [
        {
          "output_type": "execute_result",
          "data": {
            "text/plain": [
              "<matplotlib.axes._subplots.AxesSubplot at 0x7f1e8bce9d30>"
            ]
          },
          "metadata": {
            "tags": []
          },
          "execution_count": 81
        },
        {
          "output_type": "display_data",
          "data": {
            "image/png": "[encoded data removed]",
            "text/plain": [
              "<Figure size 432x288 with 1 Axes>"
            ]
          },
          "metadata": {
            "tags": []
          }
        }
      ]
    },
    {
      "cell_type": "code",
      "metadata": {
        "id": "V3Z6f8cFoMF_",
        "colab_type": "code",
        "outputId": "53e60d62-309f-404a-ee64-d538bd14cd0b",
        "colab": {
          "base_uri": "https://localhost:8080/",
          "height": 312
        }
      },
      "source": [
        "# For the word 'light'.\n",
        "plt.title('Using mds on averaged embeddings with Hierarchical clustering')\n",
        "sns.scatterplot('X', # Horizontal axis\n",
        "           'Y', # Vertical axis\n",
        "           data=relevant, # Data source\n",
        "            hue='labels', style='hom_type')\n",
        "           #fit_reg=False) # Don't fix a regression line"
      ],
      "execution_count": 0,
      "outputs": [
        {
          "output_type": "execute_result",
          "data": {
            "text/plain": [
              "<matplotlib.axes._subplots.AxesSubplot at 0x7f1e8bd59f98>"
            ]
          },
          "metadata": {
            "tags": []
          },
          "execution_count": 82
        },
        {
          "output_type": "display_data",
          "data": {
            "image/png": "[encoded data removed]",
            "text/plain": [
              "<Figure size 432x288 with 1 Axes>"
            ]
          },
          "metadata": {
            "tags": []
          }
        }
      ]
    },
    {
      "cell_type": "code",
      "metadata": {
        "id": "ExWmHv4Io4yl",
        "colab_type": "code",
        "outputId": "37dea2d7-60af-4df0-ce35-908472a7dc82",
        "colab": {
          "base_uri": "https://localhost:8080/",
          "height": 312
        }
      },
      "source": [
        "# For the word 'light'.\n",
        "plt.title('Using T-SNE on averaged embeddings with MeanShift clustering')\n",
        "sns.scatterplot('X', # Horizontal axis\n",
        "           'Y', # Vertical axis\n",
        "           data=relevant, # Data source\n",
        "            hue='labels', style='hom_type')\n",
        "           #fit_reg=False) # Don't fix a regression line"
      ],
      "execution_count": 0,
      "outputs": [
        {
          "output_type": "execute_result",
          "data": {
            "text/plain": [
              "<matplotlib.axes._subplots.AxesSubplot at 0x7fad38165f28>"
            ]
          },
          "metadata": {
            "tags": []
          },
          "execution_count": 46
        },
        {
          "output_type": "display_data",
          "data": {
            "image/png": "[encoded data removed]",
            "text/plain": [
              "<Figure size 432x288 with 1 Axes>"
            ]
          },
          "metadata": {
            "tags": [],
            "needs_background": "light"
          }
        }
      ]
    },
    {
      "cell_type": "code",
      "metadata": {
        "id": "pomESNrPNqBA",
        "colab_type": "code",
        "outputId": "f17167be-d594-4b8f-839a-e67be8a7c4a1",
        "colab": {
          "base_uri": "https://localhost:8080/",
          "height": 312
        }
      },
      "source": [
        "# For the word 'light'.\n",
        "plt.title('Using PCA on averaged embeddings with MeanShift clustering')\n",
        "sns.scatterplot('X', # Horizontal axis\n",
        "           'Y', # Vertical axis\n",
        "           data=relevant, # Data source\n",
        "            hue='labels', style='hom_type')\n",
        "           #fit_reg=False) # Don't fix a regression line"
      ],
      "execution_count": 0,
      "outputs": [
        {
          "output_type": "execute_result",
          "data": {
            "text/plain": [
              "<matplotlib.axes._subplots.AxesSubplot at 0x7fad37a63908>"
            ]
          },
          "metadata": {
            "tags": []
          },
          "execution_count": 48
        },
        {
          "output_type": "display_data",
          "data": {
            "image/png": "[encoded data removed]",
            "text/plain": [
              "<Figure size 432x288 with 1 Axes>"
            ]
          },
          "metadata": {
            "tags": [],
            "needs_background": "light"
          }
        }
      ]
    },
    {
      "cell_type": "code",
      "metadata": {
        "id": "0hPxdkayNqy6",
        "colab_type": "code",
        "outputId": "84cfca4f-08ab-4a51-d7ed-fd15d0236043",
        "colab": {
          "base_uri": "https://localhost:8080/",
          "height": 312
        }
      },
      "source": [
        "# For the word 'light'.\n",
        "plt.title('Using MDS on averaged embeddings with MeanShift clustering')\n",
        "sns.scatterplot('X', # Horizontal axis\n",
        "           'Y', # Vertical axis\n",
        "           data=relevant, # Data source\n",
        "            hue='labels', style='hom_type')\n",
        "           #fit_reg=False) # Don't fix a regression line"
      ],
      "execution_count": 0,
      "outputs": [
        {
          "output_type": "execute_result",
          "data": {
            "text/plain": [
              "<matplotlib.axes._subplots.AxesSubplot at 0x7fad38165a58>"
            ]
          },
          "metadata": {
            "tags": []
          },
          "execution_count": 50
        },
        {
          "output_type": "display_data",
          "data": {
            "image/png": "[encoded data removed]",
            "text/plain": [
              "<Figure size 432x288 with 1 Axes>"
            ]
          },
          "metadata": {
            "tags": [],
            "needs_background": "light"
          }
        }
      ]
    },
    {
      "cell_type": "code",
      "metadata": {
        "id": "8w_qGjvJZwAy",
        "colab_type": "code",
        "outputId": "225eed71-e603-4dfc-8830-51c1c9918cd6",
        "colab": {
          "base_uri": "https://localhost:8080/",
          "height": 312
        }
      },
      "source": [
        "# For the word 'light'.\n",
        "plt.title('Using T-SNE on averaged embeddings with DBScan')\n",
        "sns.scatterplot('X', # Horizontal axis\n",
        "           'Y', # Vertical axis\n",
        "           data=relevant, # Data source\n",
        "            hue='labels', style='hom_type')\n",
        "           #fit_reg=False) # Don't fix a regression line"
      ],
      "execution_count": 0,
      "outputs": [
        {
          "output_type": "execute_result",
          "data": {
            "text/plain": [
              "<matplotlib.axes._subplots.AxesSubplot at 0x7fad3794ccc0>"
            ]
          },
          "metadata": {
            "tags": []
          },
          "execution_count": 53
        },
        {
          "output_type": "display_data",
          "data": {
            "image/png": "[encoded data removed]",
            "text/plain": [
              "<Figure size 432x288 with 1 Axes>"
            ]
          },
          "metadata": {
            "tags": [],
            "needs_background": "light"
          }
        }
      ]
    },
    {
      "cell_type": "code",
      "metadata": {
        "id": "CtHv_sN7bWsx",
        "colab_type": "code",
        "outputId": "4b7acc37-1ba1-431e-dfce-aa4e1f202c04",
        "colab": {
          "base_uri": "https://localhost:8080/",
          "height": 312
        }
      },
      "source": [
        "# For the word 'light'.\n",
        "plt.title('Using PCA on averaged embeddings with DBScan')\n",
        "sns.scatterplot('X', # Horizontal axis\n",
        "           'Y', # Vertical axis\n",
        "           data=relevant, # Data source\n",
        "            hue='labels', style='hom_type')\n",
        "           #fit_reg=False) # Don't fix a regression line"
      ],
      "execution_count": 0,
      "outputs": [
        {
          "output_type": "execute_result",
          "data": {
            "text/plain": [
              "<matplotlib.axes._subplots.AxesSubplot at 0x7fad37f246d8>"
            ]
          },
          "metadata": {
            "tags": []
          },
          "execution_count": 55
        },
        {
          "output_type": "display_data",
          "data": {
            "image/png": "[encoded data removed]",
            "text/plain": [
              "<Figure size 432x288 with 1 Axes>"
            ]
          },
          "metadata": {
            "tags": [],
            "needs_background": "light"
          }
        }
      ]
    },
    {
      "cell_type": "code",
      "metadata": {
        "id": "vw8ShUNRbhtW",
        "colab_type": "code",
        "outputId": "91ee389c-7534-4ff9-af67-d843be79bd65",
        "colab": {
          "base_uri": "https://localhost:8080/",
          "height": 312
        }
      },
      "source": [
        "# For the word 'light'.\n",
        "plt.title('Using MDS on averaged embeddings with DBScan')\n",
        "sns.scatterplot('X', # Horizontal axis\n",
        "           'Y', # Vertical axis\n",
        "           data=relevant, # Data source\n",
        "            hue='labels', style='hom_type')\n",
        "           #fit_reg=False) # Don't fix a regression line"
      ],
      "execution_count": 0,
      "outputs": [
        {
          "output_type": "execute_result",
          "data": {
            "text/plain": [
              "<matplotlib.axes._subplots.AxesSubplot at 0x7fad378da7b8>"
            ]
          },
          "metadata": {
            "tags": []
          },
          "execution_count": 57
        },
        {
          "output_type": "display_data",
          "data": {
            "image/png": "[encoded data removed]",
            "text/plain": [
              "<Figure size 432x288 with 1 Axes>"
            ]
          },
          "metadata": {
            "tags": [],
            "needs_background": "light"
          }
        }
      ]
    },
    {
      "cell_type": "code",
      "metadata": {
        "id": "bc7OyIONieWI",
        "colab_type": "code",
        "outputId": "99861561-457a-4825-cbe9-cd8cd498831d",
        "colab": {
          "base_uri": "https://localhost:8080/",
          "height": 312
        }
      },
      "source": [
        "# For the word 'mean'.\n",
        "plt.title('Using PCA on averaged embeddings with Hierarchical Clustering')\n",
        "sns.scatterplot('X', # Horizontal axis\n",
        "           'Y', # Vertical axis\n",
        "           data=relevant, # Data source\n",
        "            hue='labels', style='hom_type')\n",
        "           #fit_reg=False) # Don't fix a regression line"
      ],
      "execution_count": 0,
      "outputs": [
        {
          "output_type": "execute_result",
          "data": {
            "text/plain": [
              "<matplotlib.axes._subplots.AxesSubplot at 0x7fad3746fd68>"
            ]
          },
          "metadata": {
            "tags": []
          },
          "execution_count": 106
        },
        {
          "output_type": "display_data",
          "data": {
            "image/png": "[encoded data removed]",
            "text/plain": [
              "<Figure size 432x288 with 1 Axes>"
            ]
          },
          "metadata": {
            "tags": [],
            "needs_background": "light"
          }
        }
      ]
    },
    {
      "cell_type": "code",
      "metadata": {
        "id": "Y54XMXnbiqhm",
        "colab_type": "code",
        "outputId": "f619dfdb-65d9-4e02-9212-5e1b78876060",
        "colab": {
          "base_uri": "https://localhost:8080/",
          "height": 312
        }
      },
      "source": [
        "# For the word 'mean'.\n",
        "plt.title('Using MDS on averaged embeddings with Hierarchical Clustering')\n",
        "sns.scatterplot('X', # Horizontal axis\n",
        "           'Y', # Vertical axis\n",
        "           data=relevant, # Data source\n",
        "            hue='labels', style='hom_type')\n",
        "           #fit_reg=False) # Don't fix a regression line"
      ],
      "execution_count": 0,
      "outputs": [
        {
          "output_type": "execute_result",
          "data": {
            "text/plain": [
              "<matplotlib.axes._subplots.AxesSubplot at 0x7fad3740bb38>"
            ]
          },
          "metadata": {
            "tags": []
          },
          "execution_count": 108
        },
        {
          "output_type": "display_data",
          "data": {
            "image/png": "[encoded data removed]",
            "text/plain": [
              "<Figure size 432x288 with 1 Axes>"
            ]
          },
          "metadata": {
            "tags": [],
            "needs_background": "light"
          }
        }
      ]
    },
    {
      "cell_type": "code",
      "metadata": {
        "id": "BRp1dRXYjmJ7",
        "colab_type": "code",
        "outputId": "fba46377-8581-4042-d0e1-a469ed022c88",
        "colab": {
          "base_uri": "https://localhost:8080/",
          "height": 312
        }
      },
      "source": [
        "# For the word 'mean'.\n",
        "plt.title('Using PCA on averaged embeddings with MeanShift')\n",
        "sns.scatterplot('X', # Horizontal axis\n",
        "           'Y', # Vertical axis\n",
        "           data=relevant, # Data source\n",
        "            hue='labels', style='hom_type')\n",
        "           #fit_reg=False) # Don't fix a regression line"
      ],
      "execution_count": 0,
      "outputs": [
        {
          "output_type": "execute_result",
          "data": {
            "text/plain": [
              "<matplotlib.axes._subplots.AxesSubplot at 0x7fad37322e48>"
            ]
          },
          "metadata": {
            "tags": []
          },
          "execution_count": 112
        },
        {
          "output_type": "display_data",
          "data": {
            "image/png": "[encoded data removed]",
            "text/plain": [
              "<Figure size 432x288 with 1 Axes>"
            ]
          },
          "metadata": {
            "tags": [],
            "needs_background": "light"
          }
        }
      ]
    },
    {
      "cell_type": "code",
      "metadata": {
        "id": "9F3cfH-RkTKW",
        "colab_type": "code",
        "outputId": "5c0bf935-cf81-4d36-be47-624734a098b1",
        "colab": {
          "base_uri": "https://localhost:8080/",
          "height": 312
        }
      },
      "source": [
        "# For the word 'mean'.\n",
        "plt.title('Using MDS on averaged embeddings with MeanShift')\n",
        "sns.scatterplot('X', # Horizontal axis\n",
        "           'Y', # Vertical axis\n",
        "           data=relevant, # Data source\n",
        "            hue='labels', style='hom_type')\n",
        "           #fit_reg=False) # Don't fix a regression line"
      ],
      "execution_count": 0,
      "outputs": [
        {
          "output_type": "execute_result",
          "data": {
            "text/plain": [
              "<matplotlib.axes._subplots.AxesSubplot at 0x7fad372bab38>"
            ]
          },
          "metadata": {
            "tags": []
          },
          "execution_count": 114
        },
        {
          "output_type": "display_data",
          "data": {
            "image/png": "[encoded data removed]",
            "text/plain": [
              "<Figure size 432x288 with 1 Axes>"
            ]
          },
          "metadata": {
            "tags": [],
            "needs_background": "light"
          }
        }
      ]
    },
    {
      "cell_type": "code",
      "metadata": {
        "id": "ZlZx-t5vke-Q",
        "colab_type": "code",
        "outputId": "8237453a-e660-490c-aa3f-937d43cb20ed",
        "colab": {
          "base_uri": "https://localhost:8080/",
          "height": 312
        }
      },
      "source": [
        "# For the word 'mean'.\n",
        "plt.title('Using PCA on averaged embeddings with DBScan')\n",
        "sns.scatterplot('X', # Horizontal axis\n",
        "           'Y', # Vertical axis\n",
        "           data=relevant, # Data source\n",
        "            hue='labels', style='hom_type')\n",
        "           #fit_reg=False) # Don't fix a regression line"
      ],
      "execution_count": 0,
      "outputs": [
        {
          "output_type": "execute_result",
          "data": {
            "text/plain": [
              "<matplotlib.axes._subplots.AxesSubplot at 0x7fad37254588>"
            ]
          },
          "metadata": {
            "tags": []
          },
          "execution_count": 116
        },
        {
          "output_type": "display_data",
          "data": {
            "image/png": "[encoded data removed]",
            "text/plain": [
              "<Figure size 432x288 with 1 Axes>"
            ]
          },
          "metadata": {
            "tags": [],
            "needs_background": "light"
          }
        }
      ]
    },
    {
      "cell_type": "code",
      "metadata": {
        "id": "rxuGgSNvk8dN",
        "colab_type": "code",
        "outputId": "6a581201-a2d2-456a-95d3-5e123af39f56",
        "colab": {
          "base_uri": "https://localhost:8080/",
          "height": 312
        }
      },
      "source": [
        "# For the word 'mean'.\n",
        "plt.title('Using MDS on averaged embeddings with DBScan')\n",
        "sns.scatterplot('X', # Horizontal axis\n",
        "           'Y', # Vertical axis\n",
        "           data=relevant, # Data source\n",
        "            hue='labels', style='hom_type')\n",
        "           #fit_reg=False) # Don't fix a regression line"
      ],
      "execution_count": 0,
      "outputs": [
        {
          "output_type": "execute_result",
          "data": {
            "text/plain": [
              "<matplotlib.axes._subplots.AxesSubplot at 0x7fad372a4898>"
            ]
          },
          "metadata": {
            "tags": []
          },
          "execution_count": 118
        },
        {
          "output_type": "display_data",
          "data": {
            "image/png": "[encoded data removed]",
            "text/plain": [
              "<Figure size 432x288 with 1 Axes>"
            ]
          },
          "metadata": {
            "tags": [],
            "needs_background": "light"
          }
        }
      ]
    }
  ]
}